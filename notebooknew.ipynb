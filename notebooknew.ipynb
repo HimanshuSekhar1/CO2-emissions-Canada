{
  "cells": [
    {
      "source": [
        "## 💪 Challenge I\n",
        "Help your colleague gain insights on the type of vehicles that have lower CO2 emissions. Include:\n",
        "\n",
        "1. What is the median engine size in liters?\n",
        "2. What is the average fuel consumption for regular gasoline (Fuel Type = X), premium gasoline (Z), ethanol (E), and diesel (D)?  \n",
        "3. What is the correlation between fuel consumption and CO2 emissions?\n",
        "4. Which vehicle class has lower average CO2 emissions, 'SUV - SMALL' or 'MID-SIZE'? \n",
        "5. What are the average CO2 emissions for all vehicles? For vehicles with an engine size of 2.0 liters or smaller?\n",
        "6. Any other insights you found during your analysis?"
      ],
      "metadata": {
        "id": "2a3a271c-8db8-4bb9-8905-b4cd24d5688c"
      },
      "id": "2a3a271c-8db8-4bb9-8905-b4cd24d5688c",
      "cell_type": "markdown"
    },
    {
      "source": [
        "## 💾 The data I\n",
        "\n",
        "### You have access to seven years of CO2 emissions data for Canadian vehicles ([source](https://open.canada.ca/data/en/dataset/98f1a129-f628-4ce4-b24d-6f16bf24dd64#wb-auto-6)):\n",
        "\n",
        "- \"Make\" - The company that manufactures the vehicle.\n",
        "- \"Model\" - The vehicle's model.\n",
        "- \"Vehicle Class\" - Vehicle class by utility, capacity, and weight.\n",
        "- \"Engine Size(L)\" - The engine's displacement in liters.\n",
        "- \"Cylinders\" - The number of cylinders.\n",
        "- \"Transmission\" - The transmission type: A = Automatic, AM = Automatic Manual, AS = Automatic with select shift, AV = Continuously variable, M = Manual, 3 - 10 = the number of gears.\n",
        "- \"Fuel Type\" - The fuel type: X = Regular gasoline, Z = Premium gasoline, D = Diesel, E = Ethanol (E85), N = natural gas.\n",
        "- \"Fuel Consumption Comb (L/100 km)\" - Combined city/highway (55%/45%) fuel consumption in liters per 100 km (L/100 km).\n",
        "- \"CO2 Emissions(g/km)\" - The tailpipe carbon dioxide emissions in grams per kilometer for combined city and highway driving. \n",
        "\n",
        "The data comes from the Government of Canada's open data [website](https://open.canada.ca/en)."
      ],
      "metadata": {
        "id": "01ea1972-ed5f-4285-b4ff-ca43477aa97b"
      },
      "id": "01ea1972-ed5f-4285-b4ff-ca43477aa97b",
      "cell_type": "markdown"
    },
    {
      "source": [
        "# Import packages\n",
        "import pandas as pd\n",
        "import numpy as np\n",
        "import matplotlib.pyplot as plt\n",
        "from google.colab import files\n",
        "import io\n",
        "\n",
        "# Load the data\n",
        "data = files.upload()\n"
      ],
      "metadata": {
        "jupyter": {
          "outputs_hidden": false,
          "source_hidden": false
        },
        "executionTime": 1667,
        "lastSuccessfullyExecutedCode": "# Import packages\nimport pandas as pd\nimport numpy as np\nimport matplotlib.pyplot as plt\n\n# Load the data\ndata = 'data/co2_emissions_canada.csv'\ncars = pd.read_csv(data)\ndf = pd.DataFrame(cars)\narray = df.to_numpy()\ndf",
        "id": "8f250d32-6c36-4691-81a0-130efe2741f9",
        "outputId": "53c7dc97-58db-42aa-a2c2-4efb73a58b23",
        "colab": {
          "base_uri": "https://localhost:8080/",
          "height": 74
        }
      },
      "id": "8f250d32-6c36-4691-81a0-130efe2741f9",
      "cell_type": "code",
      "execution_count": 2,
      "outputs": [
        {
          "output_type": "display_data",
          "data": {
            "text/plain": [
              "<IPython.core.display.HTML object>"
            ],
            "text/html": [
              "\n",
              "     <input type=\"file\" id=\"files-2207009a-480a-4c7a-8bf8-12bafb611bbb\" name=\"files[]\" multiple disabled\n",
              "        style=\"border:none\" />\n",
              "     <output id=\"result-2207009a-480a-4c7a-8bf8-12bafb611bbb\">\n",
              "      Upload widget is only available when the cell has been executed in the\n",
              "      current browser session. Please rerun this cell to enable.\n",
              "      </output>\n",
              "      <script>// Copyright 2017 Google LLC\n",
              "//\n",
              "// Licensed under the Apache License, Version 2.0 (the \"License\");\n",
              "// you may not use this file except in compliance with the License.\n",
              "// You may obtain a copy of the License at\n",
              "//\n",
              "//      http://www.apache.org/licenses/LICENSE-2.0\n",
              "//\n",
              "// Unless required by applicable law or agreed to in writing, software\n",
              "// distributed under the License is distributed on an \"AS IS\" BASIS,\n",
              "// WITHOUT WARRANTIES OR CONDITIONS OF ANY KIND, either express or implied.\n",
              "// See the License for the specific language governing permissions and\n",
              "// limitations under the License.\n",
              "\n",
              "/**\n",
              " * @fileoverview Helpers for google.colab Python module.\n",
              " */\n",
              "(function(scope) {\n",
              "function span(text, styleAttributes = {}) {\n",
              "  const element = document.createElement('span');\n",
              "  element.textContent = text;\n",
              "  for (const key of Object.keys(styleAttributes)) {\n",
              "    element.style[key] = styleAttributes[key];\n",
              "  }\n",
              "  return element;\n",
              "}\n",
              "\n",
              "// Max number of bytes which will be uploaded at a time.\n",
              "const MAX_PAYLOAD_SIZE = 100 * 1024;\n",
              "\n",
              "function _uploadFiles(inputId, outputId) {\n",
              "  const steps = uploadFilesStep(inputId, outputId);\n",
              "  const outputElement = document.getElementById(outputId);\n",
              "  // Cache steps on the outputElement to make it available for the next call\n",
              "  // to uploadFilesContinue from Python.\n",
              "  outputElement.steps = steps;\n",
              "\n",
              "  return _uploadFilesContinue(outputId);\n",
              "}\n",
              "\n",
              "// This is roughly an async generator (not supported in the browser yet),\n",
              "// where there are multiple asynchronous steps and the Python side is going\n",
              "// to poll for completion of each step.\n",
              "// This uses a Promise to block the python side on completion of each step,\n",
              "// then passes the result of the previous step as the input to the next step.\n",
              "function _uploadFilesContinue(outputId) {\n",
              "  const outputElement = document.getElementById(outputId);\n",
              "  const steps = outputElement.steps;\n",
              "\n",
              "  const next = steps.next(outputElement.lastPromiseValue);\n",
              "  return Promise.resolve(next.value.promise).then((value) => {\n",
              "    // Cache the last promise value to make it available to the next\n",
              "    // step of the generator.\n",
              "    outputElement.lastPromiseValue = value;\n",
              "    return next.value.response;\n",
              "  });\n",
              "}\n",
              "\n",
              "/**\n",
              " * Generator function which is called between each async step of the upload\n",
              " * process.\n",
              " * @param {string} inputId Element ID of the input file picker element.\n",
              " * @param {string} outputId Element ID of the output display.\n",
              " * @return {!Iterable<!Object>} Iterable of next steps.\n",
              " */\n",
              "function* uploadFilesStep(inputId, outputId) {\n",
              "  const inputElement = document.getElementById(inputId);\n",
              "  inputElement.disabled = false;\n",
              "\n",
              "  const outputElement = document.getElementById(outputId);\n",
              "  outputElement.innerHTML = '';\n",
              "\n",
              "  const pickedPromise = new Promise((resolve) => {\n",
              "    inputElement.addEventListener('change', (e) => {\n",
              "      resolve(e.target.files);\n",
              "    });\n",
              "  });\n",
              "\n",
              "  const cancel = document.createElement('button');\n",
              "  inputElement.parentElement.appendChild(cancel);\n",
              "  cancel.textContent = 'Cancel upload';\n",
              "  const cancelPromise = new Promise((resolve) => {\n",
              "    cancel.onclick = () => {\n",
              "      resolve(null);\n",
              "    };\n",
              "  });\n",
              "\n",
              "  // Wait for the user to pick the files.\n",
              "  const files = yield {\n",
              "    promise: Promise.race([pickedPromise, cancelPromise]),\n",
              "    response: {\n",
              "      action: 'starting',\n",
              "    }\n",
              "  };\n",
              "\n",
              "  cancel.remove();\n",
              "\n",
              "  // Disable the input element since further picks are not allowed.\n",
              "  inputElement.disabled = true;\n",
              "\n",
              "  if (!files) {\n",
              "    return {\n",
              "      response: {\n",
              "        action: 'complete',\n",
              "      }\n",
              "    };\n",
              "  }\n",
              "\n",
              "  for (const file of files) {\n",
              "    const li = document.createElement('li');\n",
              "    li.append(span(file.name, {fontWeight: 'bold'}));\n",
              "    li.append(span(\n",
              "        `(${file.type || 'n/a'}) - ${file.size} bytes, ` +\n",
              "        `last modified: ${\n",
              "            file.lastModifiedDate ? file.lastModifiedDate.toLocaleDateString() :\n",
              "                                    'n/a'} - `));\n",
              "    const percent = span('0% done');\n",
              "    li.appendChild(percent);\n",
              "\n",
              "    outputElement.appendChild(li);\n",
              "\n",
              "    const fileDataPromise = new Promise((resolve) => {\n",
              "      const reader = new FileReader();\n",
              "      reader.onload = (e) => {\n",
              "        resolve(e.target.result);\n",
              "      };\n",
              "      reader.readAsArrayBuffer(file);\n",
              "    });\n",
              "    // Wait for the data to be ready.\n",
              "    let fileData = yield {\n",
              "      promise: fileDataPromise,\n",
              "      response: {\n",
              "        action: 'continue',\n",
              "      }\n",
              "    };\n",
              "\n",
              "    // Use a chunked sending to avoid message size limits. See b/62115660.\n",
              "    let position = 0;\n",
              "    do {\n",
              "      const length = Math.min(fileData.byteLength - position, MAX_PAYLOAD_SIZE);\n",
              "      const chunk = new Uint8Array(fileData, position, length);\n",
              "      position += length;\n",
              "\n",
              "      const base64 = btoa(String.fromCharCode.apply(null, chunk));\n",
              "      yield {\n",
              "        response: {\n",
              "          action: 'append',\n",
              "          file: file.name,\n",
              "          data: base64,\n",
              "        },\n",
              "      };\n",
              "\n",
              "      let percentDone = fileData.byteLength === 0 ?\n",
              "          100 :\n",
              "          Math.round((position / fileData.byteLength) * 100);\n",
              "      percent.textContent = `${percentDone}% done`;\n",
              "\n",
              "    } while (position < fileData.byteLength);\n",
              "  }\n",
              "\n",
              "  // All done.\n",
              "  yield {\n",
              "    response: {\n",
              "      action: 'complete',\n",
              "    }\n",
              "  };\n",
              "}\n",
              "\n",
              "scope.google = scope.google || {};\n",
              "scope.google.colab = scope.google.colab || {};\n",
              "scope.google.colab._files = {\n",
              "  _uploadFiles,\n",
              "  _uploadFilesContinue,\n",
              "};\n",
              "})(self);\n",
              "</script> "
            ]
          },
          "metadata": {}
        },
        {
          "output_type": "stream",
          "name": "stdout",
          "text": [
            "Saving co2_emissions_canada.csv to co2_emissions_canada.csv\n"
          ]
        }
      ]
    },
    {
      "cell_type": "code",
      "source": [
        "cars = pd.read_csv(io.StringIO(data['co2_emissions_canada.csv'].decode('utf - 8')))"
      ],
      "metadata": {
        "id": "InOJ7m_lMpCE"
      },
      "id": "InOJ7m_lMpCE",
      "execution_count": 4,
      "outputs": []
    },
    {
      "cell_type": "code",
      "source": [
        "df = pd.DataFrame(cars)\n",
        "array = df.to_numpy()\n",
        "df"
      ],
      "metadata": {
        "id": "elQjVcEQNYCx",
        "outputId": "587ea606-afcf-4f7e-ff54-673a108330c3",
        "colab": {
          "base_uri": "https://localhost:8080/",
          "height": 424
        }
      },
      "id": "elQjVcEQNYCx",
      "execution_count": 5,
      "outputs": [
        {
          "output_type": "execute_result",
          "data": {
            "text/plain": [
              "       Make        Model   Vehicle Class  Engine Size(L)  Cylinders  \\\n",
              "0     ACURA          ILX         COMPACT             2.0          4   \n",
              "1     ACURA          ILX         COMPACT             2.4          4   \n",
              "2     ACURA   ILX HYBRID         COMPACT             1.5          4   \n",
              "3     ACURA      MDX 4WD     SUV - SMALL             3.5          6   \n",
              "4     ACURA      RDX AWD     SUV - SMALL             3.5          6   \n",
              "...     ...          ...             ...             ...        ...   \n",
              "7380  VOLVO  XC40 T5 AWD     SUV - SMALL             2.0          4   \n",
              "7381  VOLVO  XC60 T5 AWD     SUV - SMALL             2.0          4   \n",
              "7382  VOLVO  XC60 T6 AWD     SUV - SMALL             2.0          4   \n",
              "7383  VOLVO  XC90 T5 AWD  SUV - STANDARD             2.0          4   \n",
              "7384  VOLVO  XC90 T6 AWD  SUV - STANDARD             2.0          4   \n",
              "\n",
              "     Transmission Fuel Type  Fuel Consumption Comb (L/100 km)  \\\n",
              "0             AS5         Z                               8.5   \n",
              "1              M6         Z                               9.6   \n",
              "2             AV7         Z                               5.9   \n",
              "3             AS6         Z                              11.1   \n",
              "4             AS6         Z                              10.6   \n",
              "...           ...       ...                               ...   \n",
              "7380          AS8         Z                               9.4   \n",
              "7381          AS8         Z                               9.9   \n",
              "7382          AS8         Z                              10.3   \n",
              "7383          AS8         Z                               9.9   \n",
              "7384          AS8         Z                              10.7   \n",
              "\n",
              "      CO2 Emissions(g/km)  \n",
              "0                     196  \n",
              "1                     221  \n",
              "2                     136  \n",
              "3                     255  \n",
              "4                     244  \n",
              "...                   ...  \n",
              "7380                  219  \n",
              "7381                  232  \n",
              "7382                  240  \n",
              "7383                  232  \n",
              "7384                  248  \n",
              "\n",
              "[7385 rows x 9 columns]"
            ],
            "text/html": [
              "\n",
              "  <div id=\"df-1c825143-22d2-44bf-b19b-686e83b66760\">\n",
              "    <div class=\"colab-df-container\">\n",
              "      <div>\n",
              "<style scoped>\n",
              "    .dataframe tbody tr th:only-of-type {\n",
              "        vertical-align: middle;\n",
              "    }\n",
              "\n",
              "    .dataframe tbody tr th {\n",
              "        vertical-align: top;\n",
              "    }\n",
              "\n",
              "    .dataframe thead th {\n",
              "        text-align: right;\n",
              "    }\n",
              "</style>\n",
              "<table border=\"1\" class=\"dataframe\">\n",
              "  <thead>\n",
              "    <tr style=\"text-align: right;\">\n",
              "      <th></th>\n",
              "      <th>Make</th>\n",
              "      <th>Model</th>\n",
              "      <th>Vehicle Class</th>\n",
              "      <th>Engine Size(L)</th>\n",
              "      <th>Cylinders</th>\n",
              "      <th>Transmission</th>\n",
              "      <th>Fuel Type</th>\n",
              "      <th>Fuel Consumption Comb (L/100 km)</th>\n",
              "      <th>CO2 Emissions(g/km)</th>\n",
              "    </tr>\n",
              "  </thead>\n",
              "  <tbody>\n",
              "    <tr>\n",
              "      <th>0</th>\n",
              "      <td>ACURA</td>\n",
              "      <td>ILX</td>\n",
              "      <td>COMPACT</td>\n",
              "      <td>2.0</td>\n",
              "      <td>4</td>\n",
              "      <td>AS5</td>\n",
              "      <td>Z</td>\n",
              "      <td>8.5</td>\n",
              "      <td>196</td>\n",
              "    </tr>\n",
              "    <tr>\n",
              "      <th>1</th>\n",
              "      <td>ACURA</td>\n",
              "      <td>ILX</td>\n",
              "      <td>COMPACT</td>\n",
              "      <td>2.4</td>\n",
              "      <td>4</td>\n",
              "      <td>M6</td>\n",
              "      <td>Z</td>\n",
              "      <td>9.6</td>\n",
              "      <td>221</td>\n",
              "    </tr>\n",
              "    <tr>\n",
              "      <th>2</th>\n",
              "      <td>ACURA</td>\n",
              "      <td>ILX HYBRID</td>\n",
              "      <td>COMPACT</td>\n",
              "      <td>1.5</td>\n",
              "      <td>4</td>\n",
              "      <td>AV7</td>\n",
              "      <td>Z</td>\n",
              "      <td>5.9</td>\n",
              "      <td>136</td>\n",
              "    </tr>\n",
              "    <tr>\n",
              "      <th>3</th>\n",
              "      <td>ACURA</td>\n",
              "      <td>MDX 4WD</td>\n",
              "      <td>SUV - SMALL</td>\n",
              "      <td>3.5</td>\n",
              "      <td>6</td>\n",
              "      <td>AS6</td>\n",
              "      <td>Z</td>\n",
              "      <td>11.1</td>\n",
              "      <td>255</td>\n",
              "    </tr>\n",
              "    <tr>\n",
              "      <th>4</th>\n",
              "      <td>ACURA</td>\n",
              "      <td>RDX AWD</td>\n",
              "      <td>SUV - SMALL</td>\n",
              "      <td>3.5</td>\n",
              "      <td>6</td>\n",
              "      <td>AS6</td>\n",
              "      <td>Z</td>\n",
              "      <td>10.6</td>\n",
              "      <td>244</td>\n",
              "    </tr>\n",
              "    <tr>\n",
              "      <th>...</th>\n",
              "      <td>...</td>\n",
              "      <td>...</td>\n",
              "      <td>...</td>\n",
              "      <td>...</td>\n",
              "      <td>...</td>\n",
              "      <td>...</td>\n",
              "      <td>...</td>\n",
              "      <td>...</td>\n",
              "      <td>...</td>\n",
              "    </tr>\n",
              "    <tr>\n",
              "      <th>7380</th>\n",
              "      <td>VOLVO</td>\n",
              "      <td>XC40 T5 AWD</td>\n",
              "      <td>SUV - SMALL</td>\n",
              "      <td>2.0</td>\n",
              "      <td>4</td>\n",
              "      <td>AS8</td>\n",
              "      <td>Z</td>\n",
              "      <td>9.4</td>\n",
              "      <td>219</td>\n",
              "    </tr>\n",
              "    <tr>\n",
              "      <th>7381</th>\n",
              "      <td>VOLVO</td>\n",
              "      <td>XC60 T5 AWD</td>\n",
              "      <td>SUV - SMALL</td>\n",
              "      <td>2.0</td>\n",
              "      <td>4</td>\n",
              "      <td>AS8</td>\n",
              "      <td>Z</td>\n",
              "      <td>9.9</td>\n",
              "      <td>232</td>\n",
              "    </tr>\n",
              "    <tr>\n",
              "      <th>7382</th>\n",
              "      <td>VOLVO</td>\n",
              "      <td>XC60 T6 AWD</td>\n",
              "      <td>SUV - SMALL</td>\n",
              "      <td>2.0</td>\n",
              "      <td>4</td>\n",
              "      <td>AS8</td>\n",
              "      <td>Z</td>\n",
              "      <td>10.3</td>\n",
              "      <td>240</td>\n",
              "    </tr>\n",
              "    <tr>\n",
              "      <th>7383</th>\n",
              "      <td>VOLVO</td>\n",
              "      <td>XC90 T5 AWD</td>\n",
              "      <td>SUV - STANDARD</td>\n",
              "      <td>2.0</td>\n",
              "      <td>4</td>\n",
              "      <td>AS8</td>\n",
              "      <td>Z</td>\n",
              "      <td>9.9</td>\n",
              "      <td>232</td>\n",
              "    </tr>\n",
              "    <tr>\n",
              "      <th>7384</th>\n",
              "      <td>VOLVO</td>\n",
              "      <td>XC90 T6 AWD</td>\n",
              "      <td>SUV - STANDARD</td>\n",
              "      <td>2.0</td>\n",
              "      <td>4</td>\n",
              "      <td>AS8</td>\n",
              "      <td>Z</td>\n",
              "      <td>10.7</td>\n",
              "      <td>248</td>\n",
              "    </tr>\n",
              "  </tbody>\n",
              "</table>\n",
              "<p>7385 rows × 9 columns</p>\n",
              "</div>\n",
              "      <button class=\"colab-df-convert\" onclick=\"convertToInteractive('df-1c825143-22d2-44bf-b19b-686e83b66760')\"\n",
              "              title=\"Convert this dataframe to an interactive table.\"\n",
              "              style=\"display:none;\">\n",
              "        \n",
              "  <svg xmlns=\"http://www.w3.org/2000/svg\" height=\"24px\"viewBox=\"0 0 24 24\"\n",
              "       width=\"24px\">\n",
              "    <path d=\"M0 0h24v24H0V0z\" fill=\"none\"/>\n",
              "    <path d=\"M18.56 5.44l.94 2.06.94-2.06 2.06-.94-2.06-.94-.94-2.06-.94 2.06-2.06.94zm-11 1L8.5 8.5l.94-2.06 2.06-.94-2.06-.94L8.5 2.5l-.94 2.06-2.06.94zm10 10l.94 2.06.94-2.06 2.06-.94-2.06-.94-.94-2.06-.94 2.06-2.06.94z\"/><path d=\"M17.41 7.96l-1.37-1.37c-.4-.4-.92-.59-1.43-.59-.52 0-1.04.2-1.43.59L10.3 9.45l-7.72 7.72c-.78.78-.78 2.05 0 2.83L4 21.41c.39.39.9.59 1.41.59.51 0 1.02-.2 1.41-.59l7.78-7.78 2.81-2.81c.8-.78.8-2.07 0-2.86zM5.41 20L4 18.59l7.72-7.72 1.47 1.35L5.41 20z\"/>\n",
              "  </svg>\n",
              "      </button>\n",
              "      \n",
              "  <style>\n",
              "    .colab-df-container {\n",
              "      display:flex;\n",
              "      flex-wrap:wrap;\n",
              "      gap: 12px;\n",
              "    }\n",
              "\n",
              "    .colab-df-convert {\n",
              "      background-color: #E8F0FE;\n",
              "      border: none;\n",
              "      border-radius: 50%;\n",
              "      cursor: pointer;\n",
              "      display: none;\n",
              "      fill: #1967D2;\n",
              "      height: 32px;\n",
              "      padding: 0 0 0 0;\n",
              "      width: 32px;\n",
              "    }\n",
              "\n",
              "    .colab-df-convert:hover {\n",
              "      background-color: #E2EBFA;\n",
              "      box-shadow: 0px 1px 2px rgba(60, 64, 67, 0.3), 0px 1px 3px 1px rgba(60, 64, 67, 0.15);\n",
              "      fill: #174EA6;\n",
              "    }\n",
              "\n",
              "    [theme=dark] .colab-df-convert {\n",
              "      background-color: #3B4455;\n",
              "      fill: #D2E3FC;\n",
              "    }\n",
              "\n",
              "    [theme=dark] .colab-df-convert:hover {\n",
              "      background-color: #434B5C;\n",
              "      box-shadow: 0px 1px 3px 1px rgba(0, 0, 0, 0.15);\n",
              "      filter: drop-shadow(0px 1px 2px rgba(0, 0, 0, 0.3));\n",
              "      fill: #FFFFFF;\n",
              "    }\n",
              "  </style>\n",
              "\n",
              "      <script>\n",
              "        const buttonEl =\n",
              "          document.querySelector('#df-1c825143-22d2-44bf-b19b-686e83b66760 button.colab-df-convert');\n",
              "        buttonEl.style.display =\n",
              "          google.colab.kernel.accessAllowed ? 'block' : 'none';\n",
              "\n",
              "        async function convertToInteractive(key) {\n",
              "          const element = document.querySelector('#df-1c825143-22d2-44bf-b19b-686e83b66760');\n",
              "          const dataTable =\n",
              "            await google.colab.kernel.invokeFunction('convertToInteractive',\n",
              "                                                     [key], {});\n",
              "          if (!dataTable) return;\n",
              "\n",
              "          const docLinkHtml = 'Like what you see? Visit the ' +\n",
              "            '<a target=\"_blank\" href=https://colab.research.google.com/notebooks/data_table.ipynb>data table notebook</a>'\n",
              "            + ' to learn more about interactive tables.';\n",
              "          element.innerHTML = '';\n",
              "          dataTable['output_type'] = 'display_data';\n",
              "          await google.colab.output.renderOutput(dataTable, element);\n",
              "          const docLink = document.createElement('div');\n",
              "          docLink.innerHTML = docLinkHtml;\n",
              "          element.appendChild(docLink);\n",
              "        }\n",
              "      </script>\n",
              "    </div>\n",
              "  </div>\n",
              "  "
            ]
          },
          "metadata": {},
          "execution_count": 5
        }
      ]
    },
    {
      "source": [
        "# **1**. What is the median engine size in liters?"
      ],
      "metadata": {
        "id": "4b532620-f767-43a1-98e1-48f4c931be67"
      },
      "id": "4b532620-f767-43a1-98e1-48f4c931be67",
      "cell_type": "markdown"
    },
    {
      "source": [
        "Here, for calculating median engine size of vehicles we would first:\n",
        "1. Extract the column 'Engine Size(L)' from df assigning it a variable, _extract_engine_size_\n",
        "2. Using median() method over _extract_engine_size_ and assigning it a variable, _median_engine_size_ and afterwards printing it."
      ],
      "metadata": {
        "id": "0cbf8a8e-4629-43a6-8439-97e5f58379ba"
      },
      "id": "0cbf8a8e-4629-43a6-8439-97e5f58379ba",
      "cell_type": "markdown"
    },
    {
      "source": [
        "# Column access to Engine Size (L)\n",
        "extract_engine_size = df[[\"Engine Size(L)\"]]\n",
        "\n",
        "# Median Calculation \n",
        "median_engine_size = extract_engine_size.median()\n",
        "print(median_engine_size)"
      ],
      "metadata": {
        "jupyter": {
          "outputs_hidden": false,
          "source_hidden": false
        },
        "executionTime": 196,
        "lastSuccessfullyExecutedCode": "# Column access to Engine Size (L)\nextract_engine_size = df[[\"Engine Size(L)\"]]\n\n# Median Calculation \nmedian_engine_size = extract_engine_size.median()\nprint(median_engine_size)",
        "id": "c9bdd4c7-f169-46d9-97e8-90808b24effb",
        "outputId": "baed39ea-1478-4845-bfd8-61f8a72d8d58",
        "colab": {
          "base_uri": "https://localhost:8080/"
        }
      },
      "id": "c9bdd4c7-f169-46d9-97e8-90808b24effb",
      "cell_type": "code",
      "execution_count": 6,
      "outputs": [
        {
          "output_type": "stream",
          "name": "stdout",
          "text": [
            "Engine Size(L)    3.0\n",
            "dtype: float64\n"
          ]
        }
      ]
    },
    {
      "source": [
        "So, the median engine size of the vehicles is **3 Litres**."
      ],
      "metadata": {
        "id": "fba91ac9-c607-45bc-b7a8-f16778efc1ac"
      },
      "id": "fba91ac9-c607-45bc-b7a8-f16778efc1ac",
      "cell_type": "markdown"
    },
    {
      "source": [
        "# 2. What is the average fuel consumption for regular gasoline (Fuel Type = X), premium gasoline (Z), ethanol (E), and diesel (D)?"
      ],
      "metadata": {
        "id": "ef163e82-c57e-4b86-aa6b-1d6c49b8c05b"
      },
      "id": "ef163e82-c57e-4b86-aa6b-1d6c49b8c05b",
      "cell_type": "markdown"
    },
    {
      "source": [
        "avg_data = df.groupby([\"Fuel Type\"])[[\"Fuel Consumption Comb (L/100 km)\"]].mean().round(2)\n",
        "avg_fuel_consumption = avg_data.drop(\"N\")\n",
        "print(avg_fuel_consumption)"
      ],
      "metadata": {
        "executionTime": 181,
        "lastSuccessfullyExecutedCode": "avg_data = df.groupby([\"Fuel Type\"])[[\"Fuel Consumption Comb (L/100 km)\"]].mean().round(2)\navg_fuel_consumption = avg_data.drop(\"N\")\nprint(avg_fuel_consumption)",
        "id": "71847fbe-29cc-4ced-90c2-71f858f9301d",
        "outputId": "f6c09f7f-0266-4201-83e0-3cf87017870d",
        "colab": {
          "base_uri": "https://localhost:8080/"
        }
      },
      "id": "71847fbe-29cc-4ced-90c2-71f858f9301d",
      "cell_type": "code",
      "execution_count": 7,
      "outputs": [
        {
          "output_type": "stream",
          "name": "stdout",
          "text": [
            "           Fuel Consumption Comb (L/100 km)\n",
            "Fuel Type                                  \n",
            "D                                      8.84\n",
            "E                                     16.86\n",
            "X                                     10.08\n",
            "Z                                     11.42\n"
          ]
        }
      ]
    },
    {
      "source": [
        "So, the **Average Fuel Consumption(in L/km)** for vehicles having Fuel Type:\n",
        "1. X = 10.08 L/km\n",
        "2. Z = 11.42 L/km\n",
        "3. E = 16.86 L/km\n",
        "4. D = 8.84 L/km"
      ],
      "metadata": {
        "id": "c5d99e4e-7974-4c7c-a173-416cd9886f31"
      },
      "id": "c5d99e4e-7974-4c7c-a173-416cd9886f31",
      "cell_type": "markdown"
    },
    {
      "source": [
        "# 3. What is the correlation between fuel consumption and CO2 emissions?"
      ],
      "metadata": {
        "id": "24d1bda7-d7cc-47a2-90a0-2430f2725670"
      },
      "id": "24d1bda7-d7cc-47a2-90a0-2430f2725670",
      "cell_type": "markdown"
    },
    {
      "source": [
        "Here, we used scatter plot as we are analyzing correlation between two variables."
      ],
      "metadata": {
        "id": "4b16e0d4-9afa-49f1-b8d6-e679f70f6433"
      },
      "id": "4b16e0d4-9afa-49f1-b8d6-e679f70f6433",
      "cell_type": "markdown"
    },
    {
      "source": [
        "# Created sampling for half data to prevent overplotting\n",
        "df_sample = df.sample(110)\n",
        "\n",
        "# plot creation for half data\n",
        "plt.scatter(df_sample['Fuel Consumption Comb (L/100 km)'], df_sample['CO2 Emissions(g/km)'], s=10, alpha = 0.6)\n",
        "plt.title('Correlation between fuel consumption and CO2 emissions for half random data', fontsize=14)\n",
        "plt.xlabel('cars_fuel_consumption', fontsize=14, labelpad=15)\n",
        "plt.ylabel('cars_co2_emissions', fontsize=14, labelpad=15)\n",
        "plt.show()"
      ],
      "metadata": {
        "executionTime": 522,
        "lastSuccessfullyExecutedCode": "# Created sampling for half data to prevent overplotting\ndf_sample = df.sample(110)\n\n# plot creation for half data\nplt.scatter(df_sample['Fuel Consumption Comb (L/100 km)'], df_sample['CO2 Emissions(g/km)'], s=10, alpha = 0.6)\nplt.title('Correlation between fuel consumption and CO2 emissions for half random data', fontsize=14)\nplt.xlabel('cars_fuel_consumption', fontsize=14, labelpad=15)\nplt.ylabel('cars_co2_emissions', fontsize=14, labelpad=15)\nplt.show()",
        "id": "67c13ec8-eb6c-4e02-8468-6e6ce8049b82",
        "outputId": "77497f6e-4e3f-4900-fdfc-67978c412668",
        "colab": {
          "base_uri": "https://localhost:8080/",
          "height": 311
        }
      },
      "id": "67c13ec8-eb6c-4e02-8468-6e6ce8049b82",
      "cell_type": "code",
      "execution_count": 8,
      "outputs": [
        {
          "output_type": "display_data",
          "data": {
            "text/plain": [
              "<Figure size 432x288 with 1 Axes>"
            ],
            "image/png": "[encoded data removed]"
          },
          "metadata": {
            "needs_background": "light"
          }
        }
      ]
    },
    {
      "source": [
        "In the above scatter plot, we divided data using random sampling with sampling size to half of it i.e., 110 (as total no. of data rows = 223).\n",
        "\n",
        "**The use of random sampling helped in:**\n",
        "1. Prevent the data from overplotting\n",
        "2. It helped in proper analyzing of data\n",
        "\n",
        "**Analyse:**\n",
        "- As the scatter plot has a rightward inclined shape, we can say that it has positive correlation.\n",
        "- They have a positive correlation, which means when **'Fuel Consumption Comb (L/100 km)'** will increase then **'CO2 Emissions(g/km)'** will also increase."
      ],
      "metadata": {
        "id": "ee1d499e-87d7-471b-95f8-015c8f3c1c6d"
      },
      "id": "ee1d499e-87d7-471b-95f8-015c8f3c1c6d",
      "cell_type": "markdown"
    },
    {
      "source": [
        "# plot creation for all data\n",
        "plt.scatter(df['Fuel Consumption Comb (L/100 km)'], df['CO2 Emissions(g/km)'], s=10, alpha = 0.6)\n",
        "plt.title('Correlation between fuel consumption and CO2 emissions', fontsize=14)\n",
        "plt.xlabel('cars_fuel_consumption', fontsize=14, labelpad=15)\n",
        "plt.ylabel('cars_co2_emissions', fontsize=14, labelpad=15)\n",
        "plt.show()"
      ],
      "metadata": {
        "executionTime": 714,
        "lastSuccessfullyExecutedCode": "# plot creation for all data\nplt.scatter(df['Fuel Consumption Comb (L/100 km)'], df['CO2 Emissions(g/km)'], s=10, alpha = 0.6)\nplt.title('Correlation between fuel consumption and CO2 emissions', fontsize=14)\nplt.xlabel('cars_fuel_consumption', fontsize=14, labelpad=15)\nplt.ylabel('cars_co2_emissions', fontsize=14, labelpad=15)\nplt.show()",
        "id": "a4d49125-8eaa-4836-a3ac-b34ab590a55a",
        "outputId": "41fa41e4-8bbe-4124-dc42-22805af9cb42",
        "colab": {
          "base_uri": "https://localhost:8080/",
          "height": 311
        }
      },
      "id": "a4d49125-8eaa-4836-a3ac-b34ab590a55a",
      "cell_type": "code",
      "execution_count": 9,
      "outputs": [
        {
          "output_type": "display_data",
          "data": {
            "text/plain": [
              "<Figure size 432x288 with 1 Axes>"
            ],
            "image/png": "[encoded data removed]"
          },
          "metadata": {
            "needs_background": "light"
          }
        }
      ]
    },
    {
      "source": [
        "In this scatter plot, we plot all the data points to check whether our assumptions of positive correlation between the two variables was correct or not. \n",
        "\n",
        "And hence, we can conclude that **'Fuel Consumption Comb (L/100 km)' and 'CO2 Emissions(g/km)' are in positive correlation**."
      ],
      "metadata": {
        "id": "26408d98-667d-4376-bc31-f4242d8248de"
      },
      "id": "26408d98-667d-4376-bc31-f4242d8248de",
      "cell_type": "markdown"
    },
    {
      "source": [
        "# 4. Which vehicle class has lower average CO2 emissions, 'SUV - SMALL' or 'MID-SIZE'? "
      ],
      "metadata": {
        "id": "3dd98b70-3b66-4c8b-bc7e-f78a1327fe05"
      },
      "id": "3dd98b70-3b66-4c8b-bc7e-f78a1327fe05",
      "cell_type": "markdown"
    },
    {
      "source": [
        "co2_emission = df.groupby(['Vehicle Class'])[['CO2 Emissions(g/km)']].mean()\n",
        "avg_co2_emmision= co2_emission.loc[['MID-SIZE', 'SUV - SMALL'],['CO2 Emissions(g/km)']]\n",
        "print(avg_co2_emmision)\n"
      ],
      "metadata": {
        "executionTime": 144,
        "lastSuccessfullyExecutedCode": "co2_emission = df.groupby(['Vehicle Class'])[['CO2 Emissions(g/km)']].mean()\navg_co2_emmision= co2_emission.loc[['MID-SIZE', 'SUV - SMALL'],['CO2 Emissions(g/km)']]\nprint(avg_co2_emmision)\n",
        "id": "49e30615-9331-4656-973a-9714ab636237",
        "outputId": "55f8ccb4-d477-430b-ded2-dccbfa16e320",
        "colab": {
          "base_uri": "https://localhost:8080/"
        }
      },
      "id": "49e30615-9331-4656-973a-9714ab636237",
      "cell_type": "code",
      "execution_count": 10,
      "outputs": [
        {
          "output_type": "stream",
          "name": "stdout",
          "text": [
            "               CO2 Emissions(g/km)\n",
            "Vehicle Class                     \n",
            "MID-SIZE                222.455428\n",
            "SUV - SMALL             236.292523\n"
          ]
        }
      ]
    },
    {
      "source": [
        "So, **'MID-SIZE'** vehicle class has the lower average CO2 emission."
      ],
      "metadata": {
        "id": "981ebd1b-9327-4686-8ef8-2ed42c38cdc8"
      },
      "id": "981ebd1b-9327-4686-8ef8-2ed42c38cdc8",
      "cell_type": "markdown"
    },
    {
      "source": [
        "# 5. What are the average CO2 emissions for all vehicles? For vehicles with an engine size of 2.0 liters or smaller?"
      ],
      "metadata": {
        "id": "1ca75beb-ee85-4cc1-b627-5988f7709b38"
      },
      "id": "1ca75beb-ee85-4cc1-b627-5988f7709b38",
      "cell_type": "markdown"
    },
    {
      "source": [
        "Here, we calculated the average CO2 emission for all vehicles."
      ],
      "metadata": {
        "id": "2b575083-0d66-48bd-aa10-4a727397d935"
      },
      "id": "2b575083-0d66-48bd-aa10-4a727397d935",
      "cell_type": "markdown"
    },
    {
      "source": [
        "# Average CO2 emmision of all vehicles\n",
        "co2_emission = df.groupby(['Make'])[['CO2 Emissions(g/km)']].mean().round(2).sort_values('CO2 Emissions(g/km)')\n",
        "print(co2_emission)\n",
        "\n",
        "# Bar plot for the data\n",
        "plot = co2_emission.plot(kind = \"barh\", figsize = (11, 12), title = \"Average CO2 Emission\", legend = None)\n",
        "\n",
        "# For loop to show the respective values at the end of each bar\n",
        "for key, value in enumerate(co2_emission['CO2 Emissions(g/km)']):\n",
        "    plt.text(value, key,\n",
        "             str(value))\n",
        "\n",
        "# Show the plot \n",
        "plt.show(plot)"
      ],
      "metadata": {
        "executionTime": 1375,
        "lastSuccessfullyExecutedCode": "# Average CO2 emmision of all vehicles\nco2_emission = df.groupby(['Make'])[['CO2 Emissions(g/km)']].mean().round(2).sort_values('CO2 Emissions(g/km)')\nprint(co2_emission)\n\n# Bar plot for the data\nplot = co2_emission.plot(kind = \"barh\", figsize = (11, 12), title = \"Average CO2 Emission\", legend = None)\n\n# For loop to show the respective values at the end of each bar\nfor key, value in enumerate(co2_emission['CO2 Emissions(g/km)']):\n    plt.text(value, key,\n             str(value))\n\n# Show the plot \nplt.show(plot)",
        "id": "a3118bc4-929a-4637-adcd-ac9efe06b5b1",
        "outputId": "eb4e45f5-4e2a-4155-9170-c94e1bdc254f",
        "colab": {
          "base_uri": "https://localhost:8080/",
          "height": 1000
        }
      },
      "id": "a3118bc4-929a-4637-adcd-ac9efe06b5b1",
      "cell_type": "code",
      "execution_count": 11,
      "outputs": [
        {
          "output_type": "stream",
          "name": "stdout",
          "text": [
            "               CO2 Emissions(g/km)\n",
            "Make                              \n",
            "SMART                       151.43\n",
            "HONDA                       190.22\n",
            "FIAT                        192.25\n",
            "MAZDA                       193.67\n",
            "MINI                        196.59\n",
            "SCION                       200.45\n",
            "MITSUBISHI                  200.51\n",
            "HYUNDAI                     208.87\n",
            "VOLKSWAGEN                  209.34\n",
            "KIA                         214.29\n",
            "SUBARU                      217.61\n",
            "ACURA                       223.65\n",
            "TOYOTA                      224.42\n",
            "ALFA ROMEO                  224.90\n",
            "VOLVO                       230.06\n",
            "BUICK                       233.06\n",
            "NISSAN                      236.86\n",
            "LEXUS                       241.11\n",
            "CHRYSLER                    246.17\n",
            "JEEP                        250.34\n",
            "AUDI                        250.85\n",
            "BMW                         254.01\n",
            "INFINITI                    254.06\n",
            "PORSCHE                     258.94\n",
            "FORD                        260.99\n",
            "CHEVROLET                   264.35\n",
            "CADILLAC                    265.85\n",
            "LINCOLN                     267.30\n",
            "JAGUAR                      267.99\n",
            "DODGE                       276.36\n",
            "MERCEDES-BENZ               277.39\n",
            "GENESIS                     284.84\n",
            "LAND ROVER                  287.65\n",
            "RAM                         292.40\n",
            "GMC                         299.92\n",
            "MASERATI                    318.15\n",
            "ASTON MARTIN                339.62\n",
            "BENTLEY                     362.93\n",
            "ROLLS-ROYCE                 388.48\n",
            "SRT                         389.00\n",
            "LAMBORGHINI                 400.78\n",
            "BUGATTI                     522.00\n"
          ]
        },
        {
          "output_type": "display_data",
          "data": {
            "text/plain": [
              "<Figure size 792x864 with 1 Axes>"
            ],
            "image/png": "[encoded data removed]"
          },
          "metadata": {
            "needs_background": "light"
          }
        }
      ]
    },
    {
      "source": [
        "And, here we calculated the **average CO2 emission of all vehicles**, having:\n",
        "\n",
        "1. Highest emission of **Bugatti** with average CO2 emission = **522 g/km**\n",
        "2. Least emission of **Smart** with average CO2 emission = **151.43 g/km**"
      ],
      "metadata": {
        "id": "84b47aaf-c65d-4c1b-91d4-134d3ca55ea5"
      },
      "id": "84b47aaf-c65d-4c1b-91d4-134d3ca55ea5",
      "cell_type": "markdown"
    },
    {
      "source": [
        "# Vehicles with engine size less than or equal to 2\n",
        "filtered_cars = df[cars['Engine Size(L)'] <= 2]\n",
        "smaller_car_engine_size = filtered_cars.groupby(['Make'])[['CO2 Emissions(g/km)']].mean().round(2).sort_values('CO2 Emissions(g/km)', ascending = False)\n",
        "print(smaller_car_engine_size)\n",
        "\n",
        "# Bar plot for the data\n",
        "plot1 = smaller_car_engine_size.plot(kind = \"barh\", figsize = (11, 10), title = \"Vehicles with Engine Size less than or equal to 2\", legend = None)\n",
        "\n",
        "# For loop to show the respective values at the end of each bar\n",
        "for key, value in enumerate(smaller_car_engine_size['CO2 Emissions(g/km)']):\n",
        "    plt.text(value, key,\n",
        "             str(value))\n",
        "\n",
        "# Show the plot    \n",
        "plt.show(plot1)"
      ],
      "metadata": {
        "executionTime": 1141,
        "lastSuccessfullyExecutedCode": "# Vehicles with engine size less than or equal to 2\nfiltered_cars = df[cars['Engine Size(L)'] <= 2]\nsmaller_car_engine_size = filtered_cars.groupby(['Make'])[['CO2 Emissions(g/km)']].mean().round(2).sort_values('CO2 Emissions(g/km)', ascending = False)\nprint(smaller_car_engine_size)\n\n# Bar plot for the data\nplot1 = smaller_car_engine_size.plot(kind = \"barh\", figsize = (11, 10), title = \"Vehicles with Engine Size less than or equal to 2\", legend = None)\n\n# For loop to show the respective values at the end of each bar\nfor key, value in enumerate(smaller_car_engine_size['CO2 Emissions(g/km)']):\n    plt.text(value, key,\n             str(value))\n\n# Show the plot    \nplt.show(plot1)",
        "id": "8cc48e67-dd48-4f3c-81df-15d2549a779b",
        "outputId": "b4f7f02d-e831-4246-cda9-b609b121c1a8",
        "colab": {
          "base_uri": "https://localhost:8080/",
          "height": 1000
        }
      },
      "id": "8cc48e67-dd48-4f3c-81df-15d2549a779b",
      "cell_type": "code",
      "execution_count": 13,
      "outputs": [
        {
          "output_type": "stream",
          "name": "stdout",
          "text": [
            "               CO2 Emissions(g/km)\n",
            "Make                              \n",
            "GENESIS                     247.25\n",
            "LAND ROVER                  240.69\n",
            "PORSCHE                     232.00\n",
            "CADILLAC                    225.55\n",
            "JEEP                        224.19\n",
            "INFINITI                    221.64\n",
            "VOLVO                       220.22\n",
            "BUICK                       217.79\n",
            "AUDI                        217.27\n",
            "LINCOLN                     216.97\n",
            "MERCEDES-BENZ               213.70\n",
            "GMC                         213.47\n",
            "JAGUAR                      212.74\n",
            "BMW                         207.78\n",
            "SUBARU                      207.28\n",
            "ALFA ROMEO                  207.13\n",
            "VOLKSWAGEN                  202.28\n",
            "ACURA                       201.25\n",
            "LEXUS                       197.93\n",
            "FORD                        197.22\n",
            "MINI                        196.59\n",
            "KIA                         194.57\n",
            "MITSUBISHI                  192.19\n",
            "HYUNDAI                     191.75\n",
            "FIAT                        189.58\n",
            "NISSAN                      188.61\n",
            "CHEVROLET                   187.98\n",
            "SCION                       187.92\n",
            "MAZDA                       184.21\n",
            "DODGE                       182.53\n",
            "HONDA                       170.74\n",
            "TOYOTA                      161.39\n",
            "SMART                       151.43\n"
          ]
        },
        {
          "output_type": "display_data",
          "data": {
            "text/plain": [
              "<Figure size 792x720 with 1 Axes>"
            ],
            "image/png": "[encoded data removed]"
          },
          "metadata": {
            "needs_background": "light"
          }
        }
      ]
    },
    {
      "source": [
        "And, here we calculated the **average CO2 emission of vehicles having engine size equal to or smaller than 2**, having:\n",
        "\n",
        "1. Highest emission of **Genesis** with average CO2 emission = **247.25 g/km**\n",
        "2. Least emission of **Smart** with average CO2 emission = **151.43 g/km**"
      ],
      "metadata": {
        "id": "fc5a7be1-e2cd-4d74-8ca5-131cae873b1a"
      },
      "id": "fc5a7be1-e2cd-4d74-8ca5-131cae873b1a",
      "cell_type": "markdown"
    },
    {
      "source": [
        "# 6. Any other insights you found during your analysis?"
      ],
      "metadata": {
        "id": "35d86ac9-478b-47e6-9296-ab16861b2533"
      },
      "id": "35d86ac9-478b-47e6-9296-ab16861b2533",
      "cell_type": "markdown"
    },
    {
      "source": [
        "- ## Does higher CO2 emitting vehicle brands have more fuel consumption?"
      ],
      "metadata": {
        "id": "a02704e0-5d3c-40ed-a2c9-3cc6d5da3a31"
      },
      "id": "a02704e0-5d3c-40ed-a2c9-3cc6d5da3a31",
      "cell_type": "markdown"
    },
    {
      "source": [
        "**Let us first calculate the average CO2 emmisions of all the vehicles.**"
      ],
      "metadata": {
        "id": "031a08b0-96a5-41df-97fe-164591951706"
      },
      "id": "031a08b0-96a5-41df-97fe-164591951706",
      "cell_type": "markdown"
    },
    {
      "source": [
        "co2_emission = df[['CO2 Emissions(g/km)']].mean().round(2)\n",
        "print(co2_emission)"
      ],
      "metadata": {
        "jupyter": {
          "outputs_hidden": false,
          "source_hidden": false
        },
        "executionTime": 169,
        "lastSuccessfullyExecutedCode": "co2_emission = df[['CO2 Emissions(g/km)']].mean().round(2)\nprint(co2_emission)",
        "id": "e296df54-d775-462b-b446-678e2989c655",
        "outputId": "86ccd7cd-d1c2-454a-e1ff-a7e7b4b47de2",
        "colab": {
          "base_uri": "https://localhost:8080/"
        }
      },
      "id": "e296df54-d775-462b-b446-678e2989c655",
      "cell_type": "code",
      "execution_count": 17,
      "outputs": [
        {
          "output_type": "stream",
          "name": "stdout",
          "text": [
            "CO2 Emissions(g/km)    250.58\n",
            "dtype: float64\n"
          ]
        }
      ]
    },
    {
      "source": [
        "From the above calculation we found that, **average CO2 emissions = 250.58 g/km**.\n",
        "\n",
        "So, to calculate the CO2 emissions of vehicles having higher emission rate, we need to select the vehicle brands which fall above average emission and then calculate their relation with respect to fuel consumption."
      ],
      "metadata": {
        "id": "f5ac49a5-f5eb-4535-9744-bdb2218e226f"
      },
      "id": "f5ac49a5-f5eb-4535-9744-bdb2218e226f",
      "cell_type": "markdown"
    },
    {
      "source": [
        "# Calculating the mean of vehicles with respect to Fuel consumption\n",
        "co2_emission = df.groupby(['Make'])[['CO2 Emissions(g/km)', 'Fuel Consumption Comb (L/100 km)']].mean().round(2).sort_values('CO2 Emissions(g/km)')\n",
        "\n",
        "# Selecting the above average CO2 emission car\n",
        "above_avg_emission_car = co2_emission[co2_emission['CO2 Emissions(g/km)'] > 250]\n",
        "print(above_avg_emission_car)"
      ],
      "metadata": {
        "executionTime": 198,
        "lastSuccessfullyExecutedCode": "# Calculating the mean of vehicles with respect to Fuel consumption\nco2_emission = df.groupby(['Make'])[['CO2 Emissions(g/km)', 'Fuel Consumption Comb (L/100 km)']].mean().round(2).sort_values('CO2 Emissions(g/km)')\n\n# Selecting the above average CO2 emission car\nabove_avg_emission_car = co2_emission[co2_emission['CO2 Emissions(g/km)'] > 250]\nprint(above_avg_emission_car)",
        "id": "2a3d1b32-9f74-4ab0-8846-fb8da30afbf7",
        "outputId": "26f9ba4f-9354-4586-e278-ece511f99828",
        "colab": {
          "base_uri": "https://localhost:8080/"
        }
      },
      "id": "2a3d1b32-9f74-4ab0-8846-fb8da30afbf7",
      "cell_type": "code",
      "execution_count": 18,
      "outputs": [
        {
          "output_type": "stream",
          "name": "stdout",
          "text": [
            "               CO2 Emissions(g/km)  Fuel Consumption Comb (L/100 km)\n",
            "Make                                                                \n",
            "JEEP                        250.34                             10.90\n",
            "AUDI                        250.85                             10.70\n",
            "BMW                         254.01                             10.86\n",
            "INFINITI                    254.06                             10.90\n",
            "PORSCHE                     258.94                             11.11\n",
            "FORD                        260.99                             12.00\n",
            "CHEVROLET                   264.35                             11.97\n",
            "CADILLAC                    265.85                             11.49\n",
            "LINCOLN                     267.30                             11.51\n",
            "JAGUAR                      267.99                             11.65\n",
            "DODGE                       276.36                             12.51\n",
            "MERCEDES-BENZ               277.39                             11.92\n",
            "GENESIS                     284.84                             12.09\n",
            "LAND ROVER                  287.65                             12.77\n",
            "RAM                         292.40                             13.02\n",
            "GMC                         299.92                             13.96\n",
            "MASERATI                    318.15                             13.62\n",
            "ASTON MARTIN                339.62                             14.58\n",
            "BENTLEY                     362.93                             15.57\n",
            "ROLLS-ROYCE                 388.48                             16.69\n",
            "SRT                         389.00                             16.90\n",
            "LAMBORGHINI                 400.78                             17.26\n",
            "BUGATTI                     522.00                             22.20\n"
          ]
        }
      ]
    },
    {
      "source": [
        " **Visualizing the data in scatter plot**"
      ],
      "metadata": {
        "id": "676a9777-ab74-4467-b509-22569f4b3f13"
      },
      "id": "676a9777-ab74-4467-b509-22569f4b3f13",
      "cell_type": "markdown"
    },
    {
      "source": [
        "# Scatter plot for the above average CO2 emission vehicle\n",
        "plt.scatter(above_avg_emission_car['Fuel Consumption Comb (L/100 km)'], above_avg_emission_car['CO2 Emissions(g/km)'], s= 30, alpha = 0.6)\n",
        "plt.title('Correlation between fuel consumption and CO2 emissions', fontsize=14)\n",
        "plt.xlabel('cars_fuel_consumption', fontsize=14, labelpad=15)\n",
        "plt.ylabel('cars_co2_emissions', fontsize=14, labelpad=15)\n",
        "plt.show()"
      ],
      "metadata": {
        "executionTime": 436,
        "lastSuccessfullyExecutedCode": "# Scatter plot for the above average CO2 emission vehicle\nplt.scatter(above_avg_emission_car['Fuel Consumption Comb (L/100 km)'], above_avg_emission_car['CO2 Emissions(g/km)'], s= 30, alpha = 0.6)\nplt.title('Correlation between fuel consumption and CO2 emissions', fontsize=14)\nplt.xlabel('cars_fuel_consumption', fontsize=14, labelpad=15)\nplt.ylabel('cars_co2_emissions', fontsize=14, labelpad=15)\nplt.show()",
        "id": "410f80d2-2b0a-4b57-94be-fae579a945aa",
        "outputId": "efbcd83a-cdd6-4379-9af8-fcf388e83025",
        "colab": {
          "base_uri": "https://localhost:8080/",
          "height": 311
        }
      },
      "id": "410f80d2-2b0a-4b57-94be-fae579a945aa",
      "cell_type": "code",
      "execution_count": 19,
      "outputs": [
        {
          "output_type": "display_data",
          "data": {
            "text/plain": [
              "<Figure size 432x288 with 1 Axes>"
            ],
            "image/png": "[encoded data removed]"
          },
          "metadata": {
            "needs_background": "light"
          }
        }
      ]
    },
    {
      "source": [
        "From the above scatter plot we concluded that, it has a positive correlation between Fuel Cnsumption and CO2 emission. Which shows **the CO2 emission for the vehicles which falls above average emission rate has more fuel consumption**.\n",
        "\n",
        "And we can conclude a relation, **\"CO2 emission ∝ Fuel Cnsumption\".**"
      ],
      "metadata": {
        "id": "3515a417-a32f-4a25-a391-3001b9568b99"
      },
      "id": "3515a417-a32f-4a25-a391-3001b9568b99",
      "cell_type": "markdown"
    },
    {
      "source": [
        "- ## Most Fuel Efficient Vehicle Make"
      ],
      "metadata": {
        "id": "552ed51a-1a2e-4b0d-b971-ce414a9c2413"
      },
      "id": "552ed51a-1a2e-4b0d-b971-ce414a9c2413",
      "cell_type": "markdown"
    },
    {
      "source": [
        "co2_emission = df.groupby(['Make', 'Model'])[['Fuel Consumption Comb (L/100 km)']].mean().sort_values('Fuel Consumption Comb (L/100 km)')\n",
        "print(co2_emission)"
      ],
      "metadata": {
        "executionTime": 0,
        "lastSuccessfullyExecutedCode": "co2_emission = df.groupby(['Make', 'Model'])[['Fuel Consumption Comb (L/100 km)']].mean().sort_values('Fuel Consumption Comb (L/100 km)')\nprint(co2_emission)",
        "id": "2c5fa4ea-34ec-4a43-bcc0-dc110186f8c5",
        "outputId": "da10ac1d-3df8-4045-dada-6bfad24e1699",
        "colab": {
          "base_uri": "https://localhost:8080/"
        }
      },
      "id": "2c5fa4ea-34ec-4a43-bcc0-dc110186f8c5",
      "cell_type": "code",
      "execution_count": 20,
      "outputs": [
        {
          "output_type": "stream",
          "name": "stdout",
          "text": [
            "                                      Fuel Consumption Comb (L/100 km)\n",
            "Make      Model                                                       \n",
            "HYUNDAI   IONIQ Blue                                              4.10\n",
            "          IONIQ BLUE                                              4.10\n",
            "          IONIQ                                                   4.30\n",
            "TOYOTA    Prius                                                   4.45\n",
            "          Corolla Hybrid                                          4.50\n",
            "...                                                                ...\n",
            "BUGATTI   CHIRON                                                 22.20\n",
            "GMC       SAVANA 2500 PASSENGER FFV                              22.35\n",
            "CHEVROLET EXPRESS 2500 PASSENGER FFV                             22.35\n",
            "GMC       SAVANA 3500 PASSENGER FFV                              22.55\n",
            "CHEVROLET EXPRESS 3500 PASSENGER FFV                             22.55\n",
            "\n",
            "[2053 rows x 1 columns]\n"
          ]
        }
      ]
    },
    {
      "source": [
        "So, the most fuel efficient Vehicle Make goes to **\"Hyundai- IONIQ BLUE\"** having \n",
        "**Fuel Consumption Comb (L/100 ) = 4.10 L/km**.\n",
        "\n",
        "CONGRATS 🎊"
      ],
      "metadata": {
        "id": "d6351dcf-c7a7-481c-9a5e-d8ab44450a85"
      },
      "id": "d6351dcf-c7a7-481c-9a5e-d8ab44450a85",
      "cell_type": "markdown"
    },
    {
      "source": [
        "- ## Most Fuel Consuming Vehicle Make"
      ],
      "metadata": {
        "id": "e5ec1d6a-9095-4d7e-9694-11c28ea27a55"
      },
      "id": "e5ec1d6a-9095-4d7e-9694-11c28ea27a55",
      "cell_type": "markdown"
    },
    {
      "source": [
        "co2_emission = df.groupby(['Make', 'Model'])[['Fuel Consumption Comb (L/100 km)']].mean().sort_values('Fuel Consumption Comb (L/100 km)', ascending = False)\n",
        "print(co2_emission)"
      ],
      "metadata": {
        "executionTime": 0,
        "lastSuccessfullyExecutedCode": "co2_emission = df.groupby(['Make', 'Model'])[['Fuel Consumption Comb (L/100 km)']].mean().sort_values('Fuel Consumption Comb (L/100 km)', ascending = False)\nprint(co2_emission)",
        "id": "e1870a01-e15e-4323-be65-a63ff469891f",
        "outputId": "723b1578-573e-49f1-8c48-c7b622e8f3e7",
        "colab": {
          "base_uri": "https://localhost:8080/"
        }
      },
      "id": "e1870a01-e15e-4323-be65-a63ff469891f",
      "cell_type": "code",
      "execution_count": 21,
      "outputs": [
        {
          "output_type": "stream",
          "name": "stdout",
          "text": [
            "                                      Fuel Consumption Comb (L/100 km)\n",
            "Make      Model                                                       \n",
            "GMC       SAVANA 3500 PASSENGER FFV                              22.55\n",
            "CHEVROLET EXPRESS 3500 PASSENGER FFV                             22.55\n",
            "GMC       SAVANA 2500 PASSENGER FFV                              22.35\n",
            "CHEVROLET EXPRESS 2500 PASSENGER FFV                             22.35\n",
            "BUGATTI   Chiron                                                 22.20\n",
            "...                                                                ...\n",
            "TOYOTA    Corolla Hybrid                                          4.50\n",
            "          Prius                                                   4.45\n",
            "HYUNDAI   IONIQ                                                   4.30\n",
            "          IONIQ BLUE                                              4.10\n",
            "          IONIQ Blue                                              4.10\n",
            "\n",
            "[2053 rows x 1 columns]\n"
          ]
        }
      ]
    },
    {
      "source": [
        "So, the most fuel efficient Vehicle Make goes to **\"GMC- SAVANA 3500 PASSENGER FFV\"** and **\"Chevrolet- EXPRESS 3500 PASSENGER FFV\"** having \n",
        "**Fuel Consumption Comb (L/100 ) = 22.55 L/km**.\n",
        "\n",
        "HAVE HIGH HOPES 🎊"
      ],
      "metadata": {
        "id": "fb841ccf-1bd0-411a-9373-b4d7267d6991"
      },
      "id": "fb841ccf-1bd0-411a-9373-b4d7267d6991",
      "cell_type": "markdown"
    },
    {
      "source": [
        "## 💪 Challenge II\n",
        "Help your team leader understand your company's products. Include:\n",
        "\n",
        "1. What is the most expensive item your company sells? The least expensive?\n",
        "2. How many different products of each category does your company sell?\n",
        "3. What are the top three brands with the highest average list price? The top three categories?\n",
        "4. Any other insights you found during your analysis?"
      ],
      "metadata": {
        "id": "0b27c888-1e78-4cf9-b09e-f9b6d1fc7555"
      },
      "id": "0b27c888-1e78-4cf9-b09e-f9b6d1fc7555",
      "cell_type": "markdown"
    },
    {
      "source": [
        "## 💾 The data II\n",
        "\n",
        "### You have access to the following tables:\n",
        "\n",
        "#### products\n",
        "- \"product_id\" - Product identifier.\n",
        "- \"product_name\" - The name of the bicycle.\n",
        "- \"brand_id\" - You can look up the brand's name in the \"brands\" table.\n",
        "- \"category_id\" - You can look up the category's name in the \"categories\" table.\n",
        "- \"model_year\" - The model year of the bicycle.\n",
        "- \"list_price\" - The price of the bicycle.\n",
        "\n",
        "#### brands\n",
        "- \"brand_id\" - Matches the identifier in the \"products\" table.\n",
        "- \"brand_name\" - One of the nine brands the store sells.\n",
        "\n",
        "#### categories\n",
        "- \"category_id\" - Matches the identifier in the \"products\" table.\n",
        "- \"category_name\" - One of the seven product categories in the store."
      ],
      "metadata": {
        "id": "30260038-6dbc-4ce9-b4f7-834af51be334"
      },
      "id": "30260038-6dbc-4ce9-b4f7-834af51be334",
      "cell_type": "markdown"
    },
    {
      "source": [
        "# 1. What is the most expensive item your company sells? The least expensive?"
      ],
      "metadata": {
        "id": "1d7e516e-87fb-427f-9dc2-5dbfe5f71ab7"
      },
      "id": "1d7e516e-87fb-427f-9dc2-5dbfe5f71ab7",
      "cell_type": "markdown"
    },
    {
      "source": [
        "- ## THE MOST EXPENSIVE PRODUCT OF COMPANY"
      ],
      "metadata": {
        "id": "be37c282-41ea-41f1-82c0-6826125e65a0"
      },
      "id": "be37c282-41ea-41f1-82c0-6826125e65a0",
      "cell_type": "markdown"
    },
    {
      "source": [
        "We can find the most expensive item that company sells by selecting **_product_name_** and **_list_price_** from _**products**_ table and ordering it by **_list_price_** in descending order. "
      ],
      "metadata": {
        "id": "e4c242c1-7123-4421-b748-b9fe597fd4c4"
      },
      "id": "e4c242c1-7123-4421-b748-b9fe597fd4c4",
      "cell_type": "markdown"
    },
    {
      "source": [
        "SELECT product_name,\n",
        "\t   list_price\n",
        "FROM products\n",
        "ORDER BY list_price DESC;"
      ],
      "metadata": {
        "customType": "sql",
        "dataFrameVariableName": "df",
        "initial": false,
        "integrationId": "3b99a52b-51d6-49a4-b2fd-4ca490fb4f4b",
        "executionTime": 1835,
        "lastSuccessfullyExecutedCode": "SELECT product_name,\n\t   list_price\nFROM products\nORDER BY list_price DESC;",
        "id": "937fab3b-40ae-4e2a-8455-80dc2cfc2868",
        "outputId": "b8708182-9461-4a4a-ac87-4ca7f59500ea",
        "colab": {
          "base_uri": "https://localhost:8080/",
          "height": 130
        }
      },
      "id": "937fab3b-40ae-4e2a-8455-80dc2cfc2868",
      "cell_type": "code",
      "execution_count": 22,
      "outputs": [
        {
          "output_type": "error",
          "ename": "SyntaxError",
          "evalue": "ignored",
          "traceback": [
            "\u001b[0;36m  File \u001b[0;32m\"<ipython-input-22-fae6a04d9928>\"\u001b[0;36m, line \u001b[0;32m1\u001b[0m\n\u001b[0;31m    SELECT product_name,\u001b[0m\n\u001b[0m           ^\u001b[0m\n\u001b[0;31mSyntaxError\u001b[0m\u001b[0;31m:\u001b[0m invalid syntax\n"
          ]
        }
      ]
    },
    {
      "source": [
        "So, we found the most expensive item that company sells is **\"Trek Domane SLR 9 Disc - 2018\"** which is priced at whopping price of **'$ 11999.99'**."
      ],
      "metadata": {
        "id": "d929a300-fba5-4c23-80f2-4d00857e4a24"
      },
      "id": "d929a300-fba5-4c23-80f2-4d00857e4a24",
      "cell_type": "markdown"
    },
    {
      "source": [
        "- ## THE LEAST EXPENSIVE PRODUCT OF COMPANY"
      ],
      "metadata": {
        "id": "f2e70b71-73a4-4242-97fa-a0dbdd7ec49d"
      },
      "id": "f2e70b71-73a4-4242-97fa-a0dbdd7ec49d",
      "cell_type": "markdown"
    },
    {
      "source": [
        "We can find the least expensive item that company sells by selecting **_product_name_** and **_list_price_** from _**products**_ table and ordering it by **_list_price_** in ascending  order."
      ],
      "metadata": {
        "id": "bdfff237-1c3e-4df7-8461-d9dca41f5104"
      },
      "id": "bdfff237-1c3e-4df7-8461-d9dca41f5104",
      "cell_type": "markdown"
    },
    {
      "source": [
        "SELECT product_name,\n",
        "\t   list_price\n",
        "FROM products\n",
        "ORDER BY list_price;"
      ],
      "metadata": {
        "customType": "sql",
        "dataFrameVariableName": "df",
        "initial": false,
        "integrationId": "3b99a52b-51d6-49a4-b2fd-4ca490fb4f4b",
        "executionTime": 2051,
        "lastSuccessfullyExecutedCode": "SELECT product_name,\n\t   list_price\nFROM products\nORDER BY list_price;",
        "id": "623fec9a-ee96-47dc-9696-9209743604c8",
        "outputId": "02bda48d-0b1e-42eb-b462-a39bc96ab05a"
      },
      "id": "623fec9a-ee96-47dc-9696-9209743604c8",
      "cell_type": "code",
      "execution_count": null,
      "outputs": [
        {
          "output_type": "execute_result",
          "execution_count": 33,
          "data": {
            "application/com.datacamp.data-table.v1+json": {
              "table": {
                "schema": {
                  "fields": [
                    {
                      "name": "index",
                      "type": "integer"
                    },
                    {
                      "name": "product_name",
                      "type": "string"
                    },
                    {
                      "name": "list_price",
                      "type": "number"
                    }
                  ],
                  "primaryKey": [
                    "index"
                  ],
                  "pandas_version": "1.4.0"
                },
                "data": [
                  {
                    "index": 0,
                    "product_name": "Strider Classic 12 Balance Bike - 2018",
                    "list_price": 89.99
                  },
                  {
                    "index": 1,
                    "product_name": "Sun Bicycles Lil Kitt'n - 2017",
                    "list_price": 109.99
                  },
                  {
                    "index": 2,
                    "product_name": "Trek Boy's Kickster - 2015/2017",
                    "list_price": 149.99
                  },
                  {
                    "index": 3,
                    "product_name": "Trek Girl's Kickster - 2017",
                    "list_price": 149.99
                  },
                  {
                    "index": 4,
                    "product_name": "Trek Kickster - 2018",
                    "list_price": 159.99
                  },
                  {
                    "index": 5,
                    "product_name": "Trek Precaliber 12 Boys - 2017",
                    "list_price": 189.99
                  },
                  {
                    "index": 6,
                    "product_name": "Trek Precaliber 12 Girls - 2017",
                    "list_price": 189.99
                  },
                  {
                    "index": 7,
                    "product_name": "Trek Precaliber 12 Boy's - 2018",
                    "list_price": 199.99
                  },
                  {
                    "index": 8,
                    "product_name": "Trek Precaliber 12 Girl's - 2018",
                    "list_price": 199.99
                  },
                  {
                    "index": 9,
                    "product_name": "Trek Precaliber 16 Boy's - 2018",
                    "list_price": 209.99
                  },
                  {
                    "index": 10,
                    "product_name": "Trek Precaliber 16 Girl's - 2018",
                    "list_price": 209.99
                  },
                  {
                    "index": 11,
                    "product_name": "Trek Precaliber 16 Boys - 2017",
                    "list_price": 209.99
                  },
                  {
                    "index": 12,
                    "product_name": "Trek Precaliber 16 Girls - 2017",
                    "list_price": 209.99
                  },
                  {
                    "index": 13,
                    "product_name": "Haro Shredder 20 - 2017",
                    "list_price": 209.99
                  },
                  {
                    "index": 14,
                    "product_name": "Haro Shredder 20 Girls - 2017",
                    "list_price": 209.99
                  },
                  {
                    "index": 15,
                    "product_name": "Trek Precaliber 20 Boy's - 2018",
                    "list_price": 229.99
                  },
                  {
                    "index": 16,
                    "product_name": "Trek Precaliber 20 Girl's - 2018",
                    "list_price": 229.99
                  },
                  {
                    "index": 17,
                    "product_name": "Strider Sport 16 - 2018",
                    "list_price": 249.99
                  },
                  {
                    "index": 18,
                    "product_name": "Trek MT 201 - 2018",
                    "list_price": 249.99
                  },
                  {
                    "index": 19,
                    "product_name": "Haro Shredder Pro 20 - 2017",
                    "list_price": 249.99
                  },
                  {
                    "index": 20,
                    "product_name": "Sun Bicycles Revolutions 24 - 2017",
                    "list_price": 250.99
                  },
                  {
                    "index": 21,
                    "product_name": "Sun Bicycles Revolutions 24 - Girl's - 2017",
                    "list_price": 250.99
                  },
                  {
                    "index": 22,
                    "product_name": "Electra Cruiser 1 (24-Inch) - 2016",
                    "list_price": 269.99
                  },
                  {
                    "index": 23,
                    "product_name": "Electra Girl's Hawaii 1 (16-inch) - 2015/2016",
                    "list_price": 269.99
                  },
                  {
                    "index": 24,
                    "product_name": "Electra Cruiser 1 (24-Inch) - 2016",
                    "list_price": 269.99
                  },
                  {
                    "index": 25,
                    "product_name": "Electra Girl's Hawaii 1 (16-inch) - 2015/2016",
                    "list_price": 269.99
                  },
                  {
                    "index": 26,
                    "product_name": "Electra Cruiser 1 Ladies' - 2018",
                    "list_price": 269.99
                  },
                  {
                    "index": 27,
                    "product_name": "Electra Cruiser 1 Tall - 2016/2018",
                    "list_price": 269.99
                  },
                  {
                    "index": 28,
                    "product_name": "Electra Cruiser 1 - 2016/2017/2018",
                    "list_price": 269.99
                  },
                  {
                    "index": 29,
                    "product_name": "Electra Cyclosaurus 1 (16-inch) - Boy's - 2018",
                    "list_price": 279.99
                  },
                  {
                    "index": 30,
                    "product_name": "Electra Soft Serve 1 (16-inch) - Girl's - 2018",
                    "list_price": 279.99
                  },
                  {
                    "index": 31,
                    "product_name": "Electra Starship 1 16\" - 2018",
                    "list_price": 279.99
                  },
                  {
                    "index": 32,
                    "product_name": "Electra Straight 8 1 (16-inch) - Boy's - 2018",
                    "list_price": 279.99
                  },
                  {
                    "index": 33,
                    "product_name": "Electra Under-The-Sea 1 16\" - 2018",
                    "list_price": 279.99
                  },
                  {
                    "index": 34,
                    "product_name": "Electra Water Lily 1 (16-inch) - Girl's - 2018",
                    "list_price": 279.99
                  },
                  {
                    "index": 35,
                    "product_name": "Strider Strider 20 Sport - 2018",
                    "list_price": 289.99
                  },
                  {
                    "index": 36,
                    "product_name": "Trek Precaliber 20 6-speed Boy's - 2018",
                    "list_price": 289.99
                  },
                  {
                    "index": 37,
                    "product_name": "Trek Precaliber 20 6-speed Girl's - 2018",
                    "list_price": 289.99
                  },
                  {
                    "index": 38,
                    "product_name": "Electra Girl's Hawaii 1 (20-inch) - 2015/2016",
                    "list_price": 299.99
                  },
                  {
                    "index": 39,
                    "product_name": "Electra Girl's Hawaii 1 16\" - 2017",
                    "list_price": 299.99
                  },
                  {
                    "index": 40,
                    "product_name": "Electra Sugar Skulls 1 (20-inch) - Girl's - 2017",
                    "list_price": 299.99
                  },
                  {
                    "index": 41,
                    "product_name": "Electra Girl's Hawaii 1 16\" - 2017",
                    "list_price": 299.99
                  },
                  {
                    "index": 42,
                    "product_name": "Trek Precaliber 24 (7-Speed) - Boys - 2018",
                    "list_price": 319.99
                  },
                  {
                    "index": 43,
                    "product_name": "Electra Superbolt 1 20\" - 2018",
                    "list_price": 319.99
                  },
                  {
                    "index": 44,
                    "product_name": "Electra Sweet Ride 1 (20-inch) - Girl's - 2018",
                    "list_price": 319.99
                  },
                  {
                    "index": 45,
                    "product_name": "Electra Heartchya 1 (20-inch) - Girl's - 2018",
                    "list_price": 319.99
                  },
                  {
                    "index": 46,
                    "product_name": "Electra Savannah 1 (20-inch) - Girl's - 2018",
                    "list_price": 319.99
                  },
                  {
                    "index": 47,
                    "product_name": "Electra Cruiser 7D (24-Inch) Ladies' - 2016/2018",
                    "list_price": 319.99
                  },
                  {
                    "index": 48,
                    "product_name": "Trek Precaliber 24 7-speed Girl's - 2018",
                    "list_price": 319.99
                  },
                  {
                    "index": 49,
                    "product_name": "Electra Cruiser 7D Ladies' - 2016/2018",
                    "list_price": 319.99
                  },
                  {
                    "index": 50,
                    "product_name": "Electra Cruiser 7D (24-Inch) Ladies' - 2016/2018",
                    "list_price": 319.99
                  },
                  {
                    "index": 51,
                    "product_name": "Electra Cruiser 7D Tall - 2016/2018",
                    "list_price": 319.99
                  },
                  {
                    "index": 52,
                    "product_name": "Electra Cruiser 7D - 2016/2017/2018",
                    "list_price": 319.99
                  },
                  {
                    "index": 53,
                    "product_name": "Electra Tiger Shark 1 (20-inch) - Boys' - 2018",
                    "list_price": 319.99
                  },
                  {
                    "index": 54,
                    "product_name": "Electra Treasure 1 20\" - 2018",
                    "list_price": 319.99
                  },
                  {
                    "index": 55,
                    "product_name": "Haro Downtown 16 - 2017",
                    "list_price": 329.99
                  },
                  {
                    "index": 56,
                    "product_name": "Electra Townie 7D (20-inch) - Boys' - 2017",
                    "list_price": 339.99
                  },
                  {
                    "index": 57,
                    "product_name": "Sun Bicycles Lil Bolt Type-R - 2017",
                    "list_price": 346.99
                  },
                  {
                    "index": 58,
                    "product_name": "Electra Moto 3i (20-inch) - Boy's - 2017",
                    "list_price": 349.99
                  },
                  {
                    "index": 59,
                    "product_name": "Electra Savannah 3i (20-inch) - Girl's - 2017",
                    "list_price": 349.99
                  },
                  {
                    "index": 60,
                    "product_name": "Trek Precaliber 24 (21-Speed) - Girls - 2017",
                    "list_price": 349.99
                  },
                  {
                    "index": 61,
                    "product_name": "Electra Sweet Ride 3i (20-inch) - Girls' - 2018",
                    "list_price": 369.99
                  },
                  {
                    "index": 62,
                    "product_name": "Electra Superbolt 3i 20\" - 2018",
                    "list_price": 369.99
                  },
                  {
                    "index": 63,
                    "product_name": "Trek Precaliber 24 21-speed Boy's - 2018",
                    "list_price": 369.99
                  },
                  {
                    "index": 64,
                    "product_name": "Trek Precaliber 24 21-speed Girl's - 2018",
                    "list_price": 369.99
                  },
                  {
                    "index": 65,
                    "product_name": "Electra Treasure 3i 20\" - 2018",
                    "list_price": 369.99
                  },
                  {
                    "index": 66,
                    "product_name": "Electra Tiger Shark 3i (20-inch) - Boys' - 2018",
                    "list_price": 369.99
                  },
                  {
                    "index": 67,
                    "product_name": "Trek 820 - 2018",
                    "list_price": 379.99
                  },
                  {
                    "index": 68,
                    "product_name": "Haro Flightline One ST - 2017",
                    "list_price": 379.99
                  },
                  {
                    "index": 69,
                    "product_name": "Trek 820 - 2016",
                    "list_price": 379.99
                  },
                  {
                    "index": 70,
                    "product_name": "Electra Straight 8 1 (20-inch) - Boy's - 2018",
                    "list_price": 389.99
                  },
                  {
                    "index": 71,
                    "product_name": "Trek Superfly 20 - 2018",
                    "list_price": 399.99
                  },
                  {
                    "index": 72,
                    "product_name": "Sun Bicycles Boardwalk (24-inch Wheels) - 2017",
                    "list_price": 402.99
                  },
                  {
                    "index": 73,
                    "product_name": "Sun Bicycles Cruz 7 - 2017",
                    "list_price": 416.99
                  },
                  {
                    "index": 74,
                    "product_name": "Sun Bicycles Atlas X-Type - 2017",
                    "list_price": 416.99
                  },
                  {
                    "index": 75,
                    "product_name": "Sun Bicycles Cruz 7 - 2017",
                    "list_price": 416.99
                  },
                  {
                    "index": 76,
                    "product_name": "Sun Bicycles Cruz 7 - Women's - 2017",
                    "list_price": 416.99
                  },
                  {
                    "index": 77,
                    "product_name": "Pure Cycles Vine 8-Speed - 2016",
                    "list_price": 429
                  },
                  {
                    "index": 78,
                    "product_name": "Electra Cruiser Lux 1 - 2016/2018",
                    "list_price": 429.99
                  },
                  {
                    "index": 79,
                    "product_name": "Electra Cruiser Lux 1 Ladies' - 2018",
                    "list_price": 429.99
                  },
                  {
                    "index": 80,
                    "product_name": "Electra Cruiser Lux 1 - 2017",
                    "list_price": 439.99
                  },
                  {
                    "index": 81,
                    "product_name": "Pure Cycles Western 3-Speed - Women's - 2015/2016",
                    "list_price": 449
                  },
                  {
                    "index": 82,
                    "product_name": "Pure Cycles William 3-Speed - 2016",
                    "list_price": 449
                  },
                  {
                    "index": 83,
                    "product_name": "Sun Bicycles Cruz 3 - 2017",
                    "list_price": 449.99
                  },
                  {
                    "index": 84,
                    "product_name": "Sun Bicycles Cruz 3 - Women's - 2017",
                    "list_price": 449.99
                  },
                  {
                    "index": 85,
                    "product_name": "Sun Bicycles Cruz 3 - 2017",
                    "list_price": 449.99
                  },
                  {
                    "index": 86,
                    "product_name": "Electra Townie Original 1 - 2018",
                    "list_price": 449.99
                  },
                  {
                    "index": 87,
                    "product_name": "Electra Townie Original 1 Ladies' - 2018",
                    "list_price": 449.99
                  },
                  {
                    "index": 88,
                    "product_name": "Trek Kids' Neko - 2018",
                    "list_price": 469.99
                  },
                  {
                    "index": 89,
                    "product_name": "Trek Kids' Dual Sport - 2018",
                    "list_price": 469.99
                  },
                  {
                    "index": 90,
                    "product_name": "Surly Big Fat Dummy Frameset - 2018",
                    "list_price": 469.99
                  },
                  {
                    "index": 91,
                    "product_name": "Surly Pack Rat Frameset - 2018",
                    "list_price": 469.99
                  },
                  {
                    "index": 92,
                    "product_name": "Trek Farley Alloy Frameset - 2017",
                    "list_price": 469.99
                  },
                  {
                    "index": 93,
                    "product_name": "Surly Wednesday Frameset - 2017",
                    "list_price": 469.99
                  },
                  {
                    "index": 94,
                    "product_name": "Trek Session DH 27.5 Carbon Frameset - 2017",
                    "list_price": 469.99
                  },
                  {
                    "index": 95,
                    "product_name": "Surly Ice Cream Truck Frameset - 2016",
                    "list_price": 469.99
                  },
                  {
                    "index": 96,
                    "product_name": "Sun Bicycles Drifter 7 - 2017",
                    "list_price": 470.99
                  },
                  {
                    "index": 97,
                    "product_name": "Sun Bicycles Drifter 7 - Women's - 2017",
                    "list_price": 470.99
                  },
                  {
                    "index": 98,
                    "product_name": "Electra Cruiser Lux 7D Ladies' - 2018",
                    "list_price": 479.99
                  },
                  {
                    "index": 99,
                    "product_name": "Electra Cruiser Lux 7D - 2018",
                    "list_price": 479.99
                  },
                  {
                    "index": 100,
                    "product_name": "Sun Bicycles Streamway - 2017",
                    "list_price": 481.99
                  },
                  {
                    "index": 101,
                    "product_name": "Electra Townie Original 7D - 2017",
                    "list_price": 489.99
                  },
                  {
                    "index": 102,
                    "product_name": "Electra Straight 8 3i (20-inch) - Boy's - 2017",
                    "list_price": 489.99
                  },
                  {
                    "index": 103,
                    "product_name": "Electra Townie 3i EQ (20-inch) - Boys' - 2017",
                    "list_price": 489.99
                  },
                  {
                    "index": 104,
                    "product_name": "Trek Marlin 5 - 2018",
                    "list_price": 489.99
                  },
                  {
                    "index": 105,
                    "product_name": "Electra Townie Original 7D - 2017",
                    "list_price": 489.99
                  },
                  {
                    "index": 106,
                    "product_name": "Trek Superfly 24 - 2017/2018",
                    "list_price": 489.99
                  },
                  {
                    "index": 107,
                    "product_name": "Electra Townie Original 7D - 2015/2016",
                    "list_price": 499.99
                  },
                  {
                    "index": 108,
                    "product_name": "Electra Moto 1 - 2016",
                    "list_price": 529.99
                  },
                  {
                    "index": 109,
                    "product_name": "Electra Cruiser Lux 3i Ladies' - 2018",
                    "list_price": 529.99
                  },
                  {
                    "index": 110,
                    "product_name": "Electra Cruiser Lux 3i - 2018",
                    "list_price": 529.99
                  },
                  {
                    "index": 111,
                    "product_name": "Sun Bicycles Streamway 7 - 2017",
                    "list_price": 533.99
                  },
                  {
                    "index": 112,
                    "product_name": "Haro SR 1.1 - 2017",
                    "list_price": 539.99
                  },
                  {
                    "index": 113,
                    "product_name": "Haro Flightline Two 26 Plus - 2017",
                    "list_price": 549.99
                  },
                  {
                    "index": 114,
                    "product_name": "Electra Townie Original 21D - 2016",
                    "list_price": 549.99
                  },
                  {
                    "index": 115,
                    "product_name": "Electra Townie Original 21D - 2016",
                    "list_price": 549.99
                  },
                  {
                    "index": 116,
                    "product_name": "Sun Bicycles Streamway 3 - 2017",
                    "list_price": 551.99
                  },
                  {
                    "index": 117,
                    "product_name": "Electra Townie Original 21D Ladies' - 2018",
                    "list_price": 559.99
                  },
                  {
                    "index": 118,
                    "product_name": "Electra Townie Original 21D - 2018",
                    "list_price": 559.99
                  },
                  {
                    "index": 119,
                    "product_name": "Electra Townie Original 21D Ladies' - 2018",
                    "list_price": 559.99
                  },
                  {
                    "index": 120,
                    "product_name": "Electra Townie Original 21D - 2018",
                    "list_price": 559.99
                  },
                  {
                    "index": 121,
                    "product_name": "Trek Marlin 6 - 2018",
                    "list_price": 579.99
                  },
                  {
                    "index": 122,
                    "product_name": "Electra Cruiser Lux Fat Tire 1 Ladies - 2017",
                    "list_price": 599.99
                  },
                  {
                    "index": 123,
                    "product_name": "Electra Townie Original 7D EQ - Women's - 2016",
                    "list_price": 599.99
                  },
                  {
                    "index": 124,
                    "product_name": "Electra Townie Original 7D EQ - 2016",
                    "list_price": 599.99
                  },
                  {
                    "index": 125,
                    "product_name": "Electra Townie Original 7D EQ - 2016",
                    "list_price": 599.99
                  },
                  {
                    "index": 126,
                    "product_name": "Electra Townie Original 7D EQ - 2018",
                    "list_price": 599.99
                  },
                  {
                    "index": 127,
                    "product_name": "Electra Townie Original 7D EQ Ladies' - 2017/2018",
                    "list_price": 599.99
                  },
                  {
                    "index": 128,
                    "product_name": "Sun Bicycles Biscayne Tandem 7 - 2017",
                    "list_price": 619.99
                  },
                  {
                    "index": 129,
                    "product_name": "Electra Cruiser Lux Fat Tire 7D - 2018",
                    "list_price": 639.99
                  },
                  {
                    "index": 130,
                    "product_name": "Electra Townie Original 3i EQ Ladies' - 2018",
                    "list_price": 639.99
                  },
                  {
                    "index": 131,
                    "product_name": "Electra Moto 3i - 2018",
                    "list_price": 639.99
                  },
                  {
                    "index": 132,
                    "product_name": "Sun Bicycles Biscayne Tandem CB - 2017",
                    "list_price": 647.99
                  },
                  {
                    "index": 133,
                    "product_name": "Electra Amsterdam Original 3i Ladies' - 2017",
                    "list_price": 659.99
                  },
                  {
                    "index": 134,
                    "product_name": "Electra Amsterdam Original 3i - 2015/2017",
                    "list_price": 659.99
                  },
                  {
                    "index": 135,
                    "product_name": "Electra Townie Original 3i EQ - 2017/2018",
                    "list_price": 659.99
                  },
                  {
                    "index": 136,
                    "product_name": "Electra Townie Original 21D EQ Ladies' - 2018",
                    "list_price": 679.99
                  },
                  {
                    "index": 137,
                    "product_name": "Electra Townie Original 21D EQ - 2017/2018",
                    "list_price": 679.99
                  },
                  {
                    "index": 138,
                    "product_name": "Electra Townie Original 21D EQ - 2017/2018",
                    "list_price": 679.99
                  },
                  {
                    "index": 139,
                    "product_name": "Electra Townie Original 21D EQ Ladies' - 2018",
                    "list_price": 679.99
                  },
                  {
                    "index": 140,
                    "product_name": "Electra Townie Commute 8D Ladies' - 2018",
                    "list_price": 699.99
                  },
                  {
                    "index": 141,
                    "product_name": "Electra Townie Commute 8D Ladies' - 2018",
                    "list_price": 699.99
                  },
                  {
                    "index": 142,
                    "product_name": "Electra Townie Commute 8D - 2018",
                    "list_price": 749.99
                  },
                  {
                    "index": 143,
                    "product_name": "Electra Townie Balloon 8D EQ - 2016/2017/2018",
                    "list_price": 749.99
                  },
                  {
                    "index": 144,
                    "product_name": "Electra Townie Balloon 8D EQ Ladies' - 2016/2017/2018",
                    "list_price": 749.99
                  },
                  {
                    "index": 145,
                    "product_name": "Electra White Water 3i - 2018",
                    "list_price": 749.99
                  },
                  {
                    "index": 146,
                    "product_name": "Electra Townie Balloon 3i EQ - 2017/2018",
                    "list_price": 749.99
                  },
                  {
                    "index": 147,
                    "product_name": "Electra Morningstar 3i Ladies' - 2018",
                    "list_price": 749.99
                  },
                  {
                    "index": 148,
                    "product_name": "Electra Queen of Hearts 3i - 2018",
                    "list_price": 749.99
                  },
                  {
                    "index": 149,
                    "product_name": "Trek Domane AL 2 Women's - 2018",
                    "list_price": 749.99
                  },
                  {
                    "index": 150,
                    "product_name": "Surly ECR Frameset - 2018",
                    "list_price": 749.99
                  },
                  {
                    "index": 151,
                    "product_name": "Trek Domane AL 2 - 2018",
                    "list_price": 749.99
                  },
                  {
                    "index": 152,
                    "product_name": "Sun Bicycles Brickell Tandem 7 - 2017",
                    "list_price": 749.99
                  },
                  {
                    "index": 153,
                    "product_name": "Trek Marlin 7 - 2017/2018",
                    "list_price": 749.99
                  },
                  {
                    "index": 154,
                    "product_name": "Ritchey Timberwolf Frameset - 2016",
                    "list_price": 749.99
                  },
                  {
                    "index": 155,
                    "product_name": "Surly Ogre Frameset - 2017",
                    "list_price": 749.99
                  },
                  {
                    "index": 156,
                    "product_name": "Electra Townie Commute 8D - 2018",
                    "list_price": 749.99
                  },
                  {
                    "index": 157,
                    "product_name": "Electra Townie Balloon 3i EQ - 2017/2018",
                    "list_price": 749.99
                  },
                  {
                    "index": 158,
                    "product_name": "Electra Townie Balloon 8D EQ - 2016/2017/2018",
                    "list_price": 749.99
                  },
                  {
                    "index": 159,
                    "product_name": "Electra Townie Balloon 8D EQ Ladies' - 2016/2017/2018",
                    "list_price": 749.99
                  },
                  {
                    "index": 160,
                    "product_name": "Sun Bicycles Brickell Tandem CB - 2017",
                    "list_price": 761.99
                  },
                  {
                    "index": 161,
                    "product_name": "Electra Glam Punk 3i Ladies' - 2017",
                    "list_price": 799.99
                  },
                  {
                    "index": 162,
                    "product_name": "Electra Townie Balloon 3i EQ Ladies' - 2018",
                    "list_price": 799.99
                  },
                  {
                    "index": 163,
                    "product_name": "Electra Townie Balloon 3i EQ Ladies' - 2018",
                    "list_price": 799.99
                  },
                  {
                    "index": 164,
                    "product_name": "Sun Bicycles Spider 3i - 2017",
                    "list_price": 832.99
                  },
                  {
                    "index": 165,
                    "product_name": "Surly Troll Frameset - 2017",
                    "list_price": 832.99
                  },
                  {
                    "index": 166,
                    "product_name": "Electra Relic 3i - 2018",
                    "list_price": 849.99
                  },
                  {
                    "index": 167,
                    "product_name": "Haro SR 1.2 - 2017",
                    "list_price": 869.99
                  },
                  {
                    "index": 168,
                    "product_name": "Surly Steamroller - 2017",
                    "list_price": 875.99
                  },
                  {
                    "index": 169,
                    "product_name": "Electra Daydreamer 3i Ladies' - 2018",
                    "list_price": 899.99
                  },
                  {
                    "index": 170,
                    "product_name": "Electra Koa 3i Ladies' - 2018",
                    "list_price": 899.99
                  },
                  {
                    "index": 171,
                    "product_name": "Electra Townie Balloon 7i EQ Ladies' - 2017/2018",
                    "list_price": 899.99
                  },
                  {
                    "index": 172,
                    "product_name": "Electra Townie Commute 27D - 2018",
                    "list_price": 899.99
                  },
                  {
                    "index": 173,
                    "product_name": "Electra Amsterdam Fashion 3i Ladies' - 2017/2018",
                    "list_price": 899.99
                  },
                  {
                    "index": 174,
                    "product_name": "Electra Townie Commute 27D Ladies - 2018",
                    "list_price": 899.99
                  },
                  {
                    "index": 175,
                    "product_name": "Electra Townie Balloon 7i EQ - 2018",
                    "list_price": 899.99
                  },
                  {
                    "index": 176,
                    "product_name": "Electra Super Moto 8i - 2018",
                    "list_price": 899.99
                  },
                  {
                    "index": 177,
                    "product_name": "Electra Tiger Shark 3i - 2018",
                    "list_price": 899.99
                  },
                  {
                    "index": 178,
                    "product_name": "Electra Townie Balloon 7i EQ - 2018",
                    "list_price": 899.99
                  },
                  {
                    "index": 179,
                    "product_name": "Electra Townie Commute 27D - 2018",
                    "list_price": 899.99
                  },
                  {
                    "index": 180,
                    "product_name": "Electra Townie Commute 27D Ladies - 2018",
                    "list_price": 899.99
                  },
                  {
                    "index": 181,
                    "product_name": "Electra Townie Balloon 7i EQ Ladies' - 2017/2018",
                    "list_price": 899.99
                  },
                  {
                    "index": 182,
                    "product_name": "Electra Straight 8 3i - 2018",
                    "list_price": 909.99
                  },
                  {
                    "index": 183,
                    "product_name": "Trek Domane AL 3 - 2018",
                    "list_price": 919.99
                  },
                  {
                    "index": 184,
                    "product_name": "Trek Domane AL 3 Women's - 2018",
                    "list_price": 919.99
                  },
                  {
                    "index": 185,
                    "product_name": "Trek X-Caliber 7 - 2018",
                    "list_price": 919.99
                  },
                  {
                    "index": 186,
                    "product_name": "Trek Stache Carbon Frameset - 2018",
                    "list_price": 919.99
                  },
                  {
                    "index": 187,
                    "product_name": "Trek CrossRip 1 - 2018",
                    "list_price": 959.99
                  },
                  {
                    "index": 188,
                    "product_name": "Electra Delivery 3i - 2016/2017/2018",
                    "list_price": 959.99
                  },
                  {
                    "index": 189,
                    "product_name": "Trek X-Caliber 8 - 2018",
                    "list_price": 999.99
                  },
                  {
                    "index": 190,
                    "product_name": "Trek Farley Carbon Frameset - 2018",
                    "list_price": 999.99
                  },
                  {
                    "index": 191,
                    "product_name": "Trek X-Caliber 8 - 2017",
                    "list_price": 999.99
                  },
                  {
                    "index": 192,
                    "product_name": "Surly Ice Cream Truck Frameset - 2017",
                    "list_price": 999.99
                  },
                  {
                    "index": 193,
                    "product_name": "Surly Big Dummy Frameset - 2017",
                    "list_price": 999.99
                  },
                  {
                    "index": 194,
                    "product_name": "Surly Wednesday Frameset - 2016",
                    "list_price": 999.99
                  },
                  {
                    "index": 195,
                    "product_name": "Trek Domane ALR 3 - 2018",
                    "list_price": 1099.99
                  },
                  {
                    "index": 196,
                    "product_name": "Electra Amsterdam Fashion 7i Ladies' - 2017",
                    "list_price": 1099.99
                  },
                  {
                    "index": 197,
                    "product_name": "Electra Amsterdam Royal 8i Ladies - 2018",
                    "list_price": 1199.99
                  },
                  {
                    "index": 198,
                    "product_name": "Electra Amsterdam Royal 8i - 2017/2018",
                    "list_price": 1259.9
                  },
                  {
                    "index": 199,
                    "product_name": "Trek CrossRip 2 - 2018",
                    "list_price": 1299.99
                  },
                  {
                    "index": 200,
                    "product_name": "Heller Shagamaw Frame - 2016",
                    "list_price": 1320.99
                  },
                  {
                    "index": 201,
                    "product_name": "Surly Pack Rat - 2018",
                    "list_price": 1349
                  },
                  {
                    "index": 202,
                    "product_name": "Haro SR 1.3 - 2017",
                    "list_price": 1409.99
                  },
                  {
                    "index": 203,
                    "product_name": "Haro Shift R3 - 2017",
                    "list_price": 1469.99
                  },
                  {
                    "index": 204,
                    "product_name": "Trek Ticket S Frame - 2018",
                    "list_price": 1469.99
                  },
                  {
                    "index": 205,
                    "product_name": "Surly Krampus - 2018",
                    "list_price": 1499
                  },
                  {
                    "index": 206,
                    "product_name": "Trek Procal AL Frameset - 2018",
                    "list_price": 1499.99
                  },
                  {
                    "index": 207,
                    "product_name": "Trek Procaliber Frameset - 2018",
                    "list_price": 1499.99
                  },
                  {
                    "index": 208,
                    "product_name": "Trek Remedy 27.5 C Frameset - 2018",
                    "list_price": 1499.99
                  },
                  {
                    "index": 209,
                    "product_name": "Trek X-Caliber Frameset - 2018",
                    "list_price": 1499.99
                  },
                  {
                    "index": 210,
                    "product_name": "Trek Stache 5 - 2017",
                    "list_price": 1499.99
                  },
                  {
                    "index": 211,
                    "product_name": "Trek Emonda S 4 - 2017",
                    "list_price": 1499.99
                  },
                  {
                    "index": 212,
                    "product_name": "Surly Straggler - 2016",
                    "list_price": 1549
                  },
                  {
                    "index": 213,
                    "product_name": "Surly Straggler 650b - 2018",
                    "list_price": 1549
                  },
                  {
                    "index": 214,
                    "product_name": "Surly Straggler - 2018",
                    "list_price": 1549
                  },
                  {
                    "index": 215,
                    "product_name": "Surly Straggler - 2018",
                    "list_price": 1549
                  },
                  {
                    "index": 216,
                    "product_name": "Surly Straggler 650b - 2018",
                    "list_price": 1549
                  },
                  {
                    "index": 217,
                    "product_name": "Trek Domane ALR 4 Disc Women's - 2018",
                    "list_price": 1549.99
                  },
                  {
                    "index": 218,
                    "product_name": "Trek Domane ALR 4 Disc - 2018",
                    "list_price": 1549.99
                  },
                  {
                    "index": 219,
                    "product_name": "Sun Bicycles ElectroLite - 2017",
                    "list_price": 1559.99
                  },
                  {
                    "index": 220,
                    "product_name": "Trek Stache 5 - 2018",
                    "list_price": 1599.99
                  },
                  {
                    "index": 221,
                    "product_name": "Surly Wednesday - 2017",
                    "list_price": 1632.99
                  },
                  {
                    "index": 222,
                    "product_name": "Surly Straggler 650b - 2016",
                    "list_price": 1680.99
                  },
                  {
                    "index": 223,
                    "product_name": "Trek Checkpoint ALR 4 Women's - 2019",
                    "list_price": 1699.99
                  },
                  {
                    "index": 224,
                    "product_name": "Trek Remedy 29 Carbon Frameset - 2016",
                    "list_price": 1799.99
                  },
                  {
                    "index": 225,
                    "product_name": "Trek Domane ALR 5 Disc - 2018",
                    "list_price": 1799.99
                  },
                  {
                    "index": 226,
                    "product_name": "Trek Procaliber 6 - 2018",
                    "list_price": 1799.99
                  },
                  {
                    "index": 227,
                    "product_name": "Trek Domane ALR 5 Gravel - 2018",
                    "list_price": 1799.99
                  },
                  {
                    "index": 228,
                    "product_name": "Trek Crockett 5 Disc - 2018",
                    "list_price": 1799.99
                  },
                  {
                    "index": 229,
                    "product_name": "Surly ECR - 2018",
                    "list_price": 1899
                  },
                  {
                    "index": 230,
                    "product_name": "Surly ECR 27.5 - 2018",
                    "list_price": 1899
                  },
                  {
                    "index": 231,
                    "product_name": "Trek Emonda S 5 - 2017",
                    "list_price": 1999.99
                  },
                  {
                    "index": 232,
                    "product_name": "Trek Checkpoint ALR 5 - 2019",
                    "list_price": 1999.99
                  },
                  {
                    "index": 233,
                    "product_name": "Trek Checkpoint ALR 5 Women's - 2019",
                    "list_price": 1999.99
                  },
                  {
                    "index": 234,
                    "product_name": "Trek Domane SL 5 - 2018",
                    "list_price": 2199.99
                  },
                  {
                    "index": 235,
                    "product_name": "Trek Domane SL 5 Women's - 2018",
                    "list_price": 2199.99
                  },
                  {
                    "index": 236,
                    "product_name": "Trek Fuel EX 5 Plus - 2018",
                    "list_price": 2249.99
                  },
                  {
                    "index": 237,
                    "product_name": "Trek Fuel EX 5 27.5 Plus - 2017",
                    "list_price": 2299.99
                  },
                  {
                    "index": 238,
                    "product_name": "Trek Verve+ - 2018",
                    "list_price": 2299.99
                  },
                  {
                    "index": 239,
                    "product_name": "Trek Verve+ Lowstep - 2018",
                    "list_price": 2299.99
                  },
                  {
                    "index": 240,
                    "product_name": "Trek Emonda ALR 6 - 2018",
                    "list_price": 2299.99
                  },
                  {
                    "index": 241,
                    "product_name": "Trek 1120 - 2018",
                    "list_price": 2499.99
                  },
                  {
                    "index": 242,
                    "product_name": "Trek Domane SL 5 Disc Women's - 2018",
                    "list_price": 2499.99
                  },
                  {
                    "index": 243,
                    "product_name": "Trek Domane SL 5 Disc - 2018",
                    "list_price": 2499.99
                  },
                  {
                    "index": 244,
                    "product_name": "Surly Karate Monkey 27.5+ Frameset - 2017",
                    "list_price": 2499.99
                  },
                  {
                    "index": 245,
                    "product_name": "Trek Fuel EX 7 29 - 2018",
                    "list_price": 2499.99
                  },
                  {
                    "index": 246,
                    "product_name": "Surly Krampus Frameset - 2018",
                    "list_price": 2499.99
                  },
                  {
                    "index": 247,
                    "product_name": "Surly Troll Frameset - 2018",
                    "list_price": 2499.99
                  },
                  {
                    "index": 248,
                    "product_name": "Heller Shagamaw GX1 - 2018",
                    "list_price": 2599
                  },
                  {
                    "index": 249,
                    "product_name": "Heller Bloodhound Trail - 2018",
                    "list_price": 2599
                  },
                  {
                    "index": 250,
                    "product_name": "Trek Domane S 5 Disc - 2017",
                    "list_price": 2599.99
                  },
                  {
                    "index": 251,
                    "product_name": "Electra Townie Go! 8i - 2017/2018",
                    "list_price": 2599.99
                  },
                  {
                    "index": 252,
                    "product_name": "Electra Townie Go! 8i Ladies' - 2018",
                    "list_price": 2599.99
                  },
                  {
                    "index": 253,
                    "product_name": "Electra Townie Go! 8i - 2017/2018",
                    "list_price": 2599.99
                  },
                  {
                    "index": 254,
                    "product_name": "Electra Townie Go! 8i Ladies' - 2018",
                    "list_price": 2599.99
                  },
                  {
                    "index": 255,
                    "product_name": "Electra Townie Go! 8i - 2017/2018",
                    "list_price": 2599.99
                  },
                  {
                    "index": 256,
                    "product_name": "Trek Domane S 6 - 2017",
                    "list_price": 2699.99
                  },
                  {
                    "index": 257,
                    "product_name": "Trek Lift+ - 2018",
                    "list_price": 2799.99
                  },
                  {
                    "index": 258,
                    "product_name": "Trek Conduit+ - 2018",
                    "list_price": 2799.99
                  },
                  {
                    "index": 259,
                    "product_name": "Trek Neko+ - 2018",
                    "list_price": 2799.99
                  },
                  {
                    "index": 260,
                    "product_name": "Trek Lift+ Lowstep - 2018",
                    "list_price": 2799.99
                  },
                  {
                    "index": 261,
                    "product_name": "Trek Dual Sport+ - 2018",
                    "list_price": 2799.99
                  },
                  {
                    "index": 262,
                    "product_name": "Electra Loft Go! 8i - 2018",
                    "list_price": 2799.99
                  },
                  {
                    "index": 263,
                    "product_name": "Trek Checkpoint SL 5 Women's - 2019",
                    "list_price": 2799.99
                  },
                  {
                    "index": 264,
                    "product_name": "Trek Fuel EX 8 29 - 2016",
                    "list_price": 2899.99
                  },
                  {
                    "index": 265,
                    "product_name": "Trek Conduit+ - 2016",
                    "list_price": 2999.99
                  },
                  {
                    "index": 266,
                    "product_name": "Trek Remedy 7 27.5 - 2018",
                    "list_price": 2999.99
                  },
                  {
                    "index": 267,
                    "product_name": "Electra Townie Commute Go! - 2018",
                    "list_price": 2999.99
                  },
                  {
                    "index": 268,
                    "product_name": "Electra Townie Commute Go! Ladies' - 2018",
                    "list_price": 2999.99
                  },
                  {
                    "index": 269,
                    "product_name": "Trek Crockett 7 Disc - 2018",
                    "list_price": 2999.99
                  },
                  {
                    "index": 270,
                    "product_name": "Trek Emonda SL 6 Disc - 2018",
                    "list_price": 2999.99
                  },
                  {
                    "index": 271,
                    "product_name": "Electra Townie Commute Go! - 2018",
                    "list_price": 2999.99
                  },
                  {
                    "index": 272,
                    "product_name": "Electra Townie Commute Go! Ladies' - 2018",
                    "list_price": 2999.99
                  },
                  {
                    "index": 273,
                    "product_name": "Trek Domane SL 6 - 2018",
                    "list_price": 3199.99
                  },
                  {
                    "index": 274,
                    "product_name": "Trek Domane ALR Disc Frameset - 2018",
                    "list_price": 3199.99
                  },
                  {
                    "index": 275,
                    "product_name": "Trek Domane ALR Frameset - 2018",
                    "list_price": 3199.99
                  },
                  {
                    "index": 276,
                    "product_name": "Trek Domane SLR Disc Frameset - 2018",
                    "list_price": 3199.99
                  },
                  {
                    "index": 277,
                    "product_name": "Trek Domane SLR Frameset - 2018",
                    "list_price": 3199.99
                  },
                  {
                    "index": 278,
                    "product_name": "Trek Madone 9 Frameset - 2018",
                    "list_price": 3199.99
                  },
                  {
                    "index": 279,
                    "product_name": "Trek Fuel EX 8 29 XT - 2018",
                    "list_price": 3199.99
                  },
                  {
                    "index": 280,
                    "product_name": "Trek Fuel EX 8 29 - 2018",
                    "list_price": 3199.99
                  },
                  {
                    "index": 281,
                    "product_name": "Trek Domane SL Disc Frameset - 2017",
                    "list_price": 3199.99
                  },
                  {
                    "index": 282,
                    "product_name": "Trek Checkpoint ALR Frameset - 2019",
                    "list_price": 3199.99
                  },
                  {
                    "index": 283,
                    "product_name": "Trek Boone 5 Disc - 2018",
                    "list_price": 3299.99
                  },
                  {
                    "index": 284,
                    "product_name": "Trek Powerfly 5 - 2018",
                    "list_price": 3499.99
                  },
                  {
                    "index": 285,
                    "product_name": "Trek XM700+ - 2018",
                    "list_price": 3499.99
                  },
                  {
                    "index": 286,
                    "product_name": "Trek Powerfly 5 Women's - 2018",
                    "list_price": 3499.99
                  },
                  {
                    "index": 287,
                    "product_name": "Trek XM700+ Lowstep - 2018",
                    "list_price": 3499.99
                  },
                  {
                    "index": 288,
                    "product_name": "Trek Domane SL 6 Disc - 2018",
                    "list_price": 3499.99
                  },
                  {
                    "index": 289,
                    "product_name": "Trek Boone 7 - 2017",
                    "list_price": 3499.99
                  },
                  {
                    "index": 290,
                    "product_name": "Trek Boone Race Shop Limited - 2017",
                    "list_price": 3499.99
                  },
                  {
                    "index": 291,
                    "product_name": "Trek Domane SL 6 - 2017",
                    "list_price": 3499.99
                  },
                  {
                    "index": 292,
                    "product_name": "Trek Super Commuter+ 7 - 2018",
                    "list_price": 3599.99
                  },
                  {
                    "index": 293,
                    "product_name": "Trek Checkpoint SL 6 - 2019",
                    "list_price": 3799.99
                  },
                  {
                    "index": 294,
                    "product_name": "Trek Boone 7 Disc - 2018",
                    "list_price": 3999.99
                  },
                  {
                    "index": 295,
                    "product_name": "Trek Slash 8 27.5 - 2016",
                    "list_price": 3999.99
                  },
                  {
                    "index": 296,
                    "product_name": "Trek CrossRip+ - 2018",
                    "list_price": 4499.99
                  },
                  {
                    "index": 297,
                    "product_name": "Trek Powerfly 5 FS - 2018",
                    "list_price": 4499.99
                  },
                  {
                    "index": 298,
                    "product_name": "Trek Emonda SLR 6 - 2018",
                    "list_price": 4499.99
                  },
                  {
                    "index": 299,
                    "product_name": "Trek Emonda SL 7 - 2018",
                    "list_price": 4499.99
                  },
                  {
                    "index": 300,
                    "product_name": "Trek Domane SL 7 Women's - 2018",
                    "list_price": 4999.99
                  },
                  {
                    "index": 301,
                    "product_name": "Trek Powerfly 7 FS - 2018",
                    "list_price": 4999.99
                  },
                  {
                    "index": 302,
                    "product_name": "Trek Super Commuter+ 8S - 2018",
                    "list_price": 4999.99
                  },
                  {
                    "index": 303,
                    "product_name": "Trek Fuel EX 9.8 29 - 2017",
                    "list_price": 4999.99
                  },
                  {
                    "index": 304,
                    "product_name": "Trek Powerfly 8 FS Plus - 2017",
                    "list_price": 4999.99
                  },
                  {
                    "index": 305,
                    "product_name": "Trek Madone 9.2 - 2017",
                    "list_price": 4999.99
                  },
                  {
                    "index": 306,
                    "product_name": "Trek Remedy 9.8 27.5 - 2018",
                    "list_price": 4999.99
                  },
                  {
                    "index": 307,
                    "product_name": "Trek Domane SLR 6 - 2018",
                    "list_price": 4999.99
                  },
                  {
                    "index": 308,
                    "product_name": "Trek Fuel EX 9.8 27.5 Plus - 2017",
                    "list_price": 5299.99
                  },
                  {
                    "index": 309,
                    "product_name": "Trek Remedy 9.8 - 2017",
                    "list_price": 5299.99
                  },
                  {
                    "index": 310,
                    "product_name": "Trek Domane SLR 6 Disc - 2017",
                    "list_price": 5499.99
                  },
                  {
                    "index": 311,
                    "product_name": "Trek Domane SLR 6 Disc Women's - 2018",
                    "list_price": 5499.99
                  },
                  {
                    "index": 312,
                    "product_name": "Trek Domane SL 8 Disc - 2018",
                    "list_price": 5499.99
                  },
                  {
                    "index": 313,
                    "product_name": "Trek Domane SLR 6 Disc - 2018",
                    "list_price": 5499.99
                  },
                  {
                    "index": 314,
                    "product_name": "Trek Silque SLR 7 Women's - 2017",
                    "list_price": 5999.99
                  },
                  {
                    "index": 315,
                    "product_name": "Trek Silque SLR 8 Women's - 2017",
                    "list_price": 6499.99
                  },
                  {
                    "index": 316,
                    "product_name": "Trek Emonda SLR 8 - 2018",
                    "list_price": 6499.99
                  },
                  {
                    "index": 317,
                    "product_name": "Trek Domane SL Frameset - 2018",
                    "list_price": 6499.99
                  },
                  {
                    "index": 318,
                    "product_name": "Trek Domane SL Frameset Women's - 2018",
                    "list_price": 6499.99
                  },
                  {
                    "index": 319,
                    "product_name": "Trek Domane SLR 8 Disc - 2018",
                    "list_price": 7499.99
                  },
                  {
                    "index": 320,
                    "product_name": "Trek Domane SLR 9 Disc - 2018",
                    "list_price": 11999.99
                  }
                ]
              },
              "total_rows": 321,
              "truncation_type": null
            },
            "text/plain": "                               product_name  list_price\n0    Strider Classic 12 Balance Bike - 2018       89.99\n1            Sun Bicycles Lil Kitt'n - 2017      109.99\n2           Trek Boy's Kickster - 2015/2017      149.99\n3               Trek Girl's Kickster - 2017      149.99\n4                      Trek Kickster - 2018      159.99\n..                                      ...         ...\n316                Trek Emonda SLR 8 - 2018     6499.99\n317          Trek Domane SL Frameset - 2018     6499.99\n318  Trek Domane SL Frameset Women's - 2018     6499.99\n319           Trek Domane SLR 8 Disc - 2018     7499.99\n320           Trek Domane SLR 9 Disc - 2018    11999.99\n\n[321 rows x 2 columns]",
            "text/html": "<div>\n<style scoped>\n    .dataframe tbody tr th:only-of-type {\n        vertical-align: middle;\n    }\n\n    .dataframe tbody tr th {\n        vertical-align: top;\n    }\n\n    .dataframe thead th {\n        text-align: right;\n    }\n</style>\n<table border=\"1\" class=\"dataframe\">\n  <thead>\n    <tr style=\"text-align: right;\">\n      <th></th>\n      <th>product_name</th>\n      <th>list_price</th>\n    </tr>\n  </thead>\n  <tbody>\n    <tr>\n      <th>0</th>\n      <td>Strider Classic 12 Balance Bike - 2018</td>\n      <td>89.99</td>\n    </tr>\n    <tr>\n      <th>1</th>\n      <td>Sun Bicycles Lil Kitt'n - 2017</td>\n      <td>109.99</td>\n    </tr>\n    <tr>\n      <th>2</th>\n      <td>Trek Boy's Kickster - 2015/2017</td>\n      <td>149.99</td>\n    </tr>\n    <tr>\n      <th>3</th>\n      <td>Trek Girl's Kickster - 2017</td>\n      <td>149.99</td>\n    </tr>\n    <tr>\n      <th>4</th>\n      <td>Trek Kickster - 2018</td>\n      <td>159.99</td>\n    </tr>\n    <tr>\n      <th>...</th>\n      <td>...</td>\n      <td>...</td>\n    </tr>\n    <tr>\n      <th>316</th>\n      <td>Trek Emonda SLR 8 - 2018</td>\n      <td>6499.99</td>\n    </tr>\n    <tr>\n      <th>317</th>\n      <td>Trek Domane SL Frameset - 2018</td>\n      <td>6499.99</td>\n    </tr>\n    <tr>\n      <th>318</th>\n      <td>Trek Domane SL Frameset Women's - 2018</td>\n      <td>6499.99</td>\n    </tr>\n    <tr>\n      <th>319</th>\n      <td>Trek Domane SLR 8 Disc - 2018</td>\n      <td>7499.99</td>\n    </tr>\n    <tr>\n      <th>320</th>\n      <td>Trek Domane SLR 9 Disc - 2018</td>\n      <td>11999.99</td>\n    </tr>\n  </tbody>\n</table>\n<p>321 rows × 2 columns</p>\n</div>"
          },
          "metadata": {}
        }
      ]
    },
    {
      "source": [
        "So, we found the least expensive item that company sells is **\"Strider Classic 12 Balance Bike - 2018\"** which is priced at an amazing price of **'$ 89.99'**."
      ],
      "metadata": {
        "id": "0ba083ab-36f2-4c74-ae24-9fd51a3c58d2"
      },
      "id": "0ba083ab-36f2-4c74-ae24-9fd51a3c58d2",
      "cell_type": "markdown"
    },
    {
      "source": [
        "# 2. How many different products of each category does your company sell?"
      ],
      "metadata": {
        "id": "daff6e07-2561-4085-8762-b0ac8060e71a"
      },
      "id": "daff6e07-2561-4085-8762-b0ac8060e71a",
      "cell_type": "markdown"
    },
    {
      "source": [
        "**These are the number of products sold by the company from each category:**"
      ],
      "metadata": {
        "id": "bc80e404-51d3-4132-9d13-fa7eb1752abd"
      },
      "id": "bc80e404-51d3-4132-9d13-fa7eb1752abd",
      "cell_type": "markdown"
    },
    {
      "source": [
        "SELECT c.category_name AS category,\n",
        "\t   COUNT(p.product_id) as num_of_products\n",
        "FROM categories as c\n",
        "LEFT JOIN products as p\n",
        "ON c.category_id = p.category_id\n",
        "GROUP BY c.category_name;"
      ],
      "metadata": {
        "customType": "sql",
        "dataFrameVariableName": "df",
        "initial": false,
        "integrationId": "3b99a52b-51d6-49a4-b2fd-4ca490fb4f4b",
        "executionTime": 1955,
        "lastSuccessfullyExecutedCode": "SELECT c.category_name AS category,\n\t   COUNT(p.product_id) as num_of_products\nFROM categories as c\nLEFT JOIN products as p\nON c.category_id = p.category_id\nGROUP BY c.category_name;",
        "id": "084a56c7-e17a-491a-9002-f67ac7c7e117",
        "outputId": "68109e5f-cdd4-4ab5-fee4-87087556404c"
      },
      "id": "084a56c7-e17a-491a-9002-f67ac7c7e117",
      "cell_type": "code",
      "execution_count": null,
      "outputs": [
        {
          "output_type": "execute_result",
          "execution_count": 34,
          "data": {
            "application/com.datacamp.data-table.v1+json": {
              "table": {
                "schema": {
                  "fields": [
                    {
                      "name": "index",
                      "type": "integer"
                    },
                    {
                      "name": "category",
                      "type": "string"
                    },
                    {
                      "name": "num_of_products",
                      "type": "integer"
                    }
                  ],
                  "primaryKey": [
                    "index"
                  ],
                  "pandas_version": "1.4.0"
                },
                "data": [
                  {
                    "index": 0,
                    "category": "Children Bicycles",
                    "num_of_products": 59
                  },
                  {
                    "index": 1,
                    "category": "Comfort Bicycles",
                    "num_of_products": 30
                  },
                  {
                    "index": 2,
                    "category": "Cruisers Bicycles",
                    "num_of_products": 78
                  },
                  {
                    "index": 3,
                    "category": "Cyclocross Bicycles",
                    "num_of_products": 10
                  },
                  {
                    "index": 4,
                    "category": "Electric Bikes",
                    "num_of_products": 24
                  },
                  {
                    "index": 5,
                    "category": "Mountain Bikes",
                    "num_of_products": 60
                  },
                  {
                    "index": 6,
                    "category": "Road Bikes",
                    "num_of_products": 60
                  }
                ]
              },
              "total_rows": 7,
              "truncation_type": null
            },
            "text/plain": "              category  num_of_products\n0    Children Bicycles               59\n1     Comfort Bicycles               30\n2    Cruisers Bicycles               78\n3  Cyclocross Bicycles               10\n4       Electric Bikes               24\n5       Mountain Bikes               60\n6           Road Bikes               60",
            "text/html": "<div>\n<style scoped>\n    .dataframe tbody tr th:only-of-type {\n        vertical-align: middle;\n    }\n\n    .dataframe tbody tr th {\n        vertical-align: top;\n    }\n\n    .dataframe thead th {\n        text-align: right;\n    }\n</style>\n<table border=\"1\" class=\"dataframe\">\n  <thead>\n    <tr style=\"text-align: right;\">\n      <th></th>\n      <th>category</th>\n      <th>num_of_products</th>\n    </tr>\n  </thead>\n  <tbody>\n    <tr>\n      <th>0</th>\n      <td>Children Bicycles</td>\n      <td>59</td>\n    </tr>\n    <tr>\n      <th>1</th>\n      <td>Comfort Bicycles</td>\n      <td>30</td>\n    </tr>\n    <tr>\n      <th>2</th>\n      <td>Cruisers Bicycles</td>\n      <td>78</td>\n    </tr>\n    <tr>\n      <th>3</th>\n      <td>Cyclocross Bicycles</td>\n      <td>10</td>\n    </tr>\n    <tr>\n      <th>4</th>\n      <td>Electric Bikes</td>\n      <td>24</td>\n    </tr>\n    <tr>\n      <th>5</th>\n      <td>Mountain Bikes</td>\n      <td>60</td>\n    </tr>\n    <tr>\n      <th>6</th>\n      <td>Road Bikes</td>\n      <td>60</td>\n    </tr>\n  </tbody>\n</table>\n</div>"
          },
          "metadata": {}
        }
      ]
    },
    {
      "source": [
        "From the above collected data, we can infer that **Cruiser Bicycles**, **Mountain Bicycles** and **Road Bicycles** have the top three most variety products.\n",
        "\n",
        "**This shows people are really getting attracted to bicycle culture, thus company are launching with more products to cater different categories of customer.**\n",
        "\n",
        "STAY FIT PEOPLE 🚴🏼‍♂️"
      ],
      "metadata": {
        "id": "31262166-7943-44cb-981e-5385abd8ef56"
      },
      "id": "31262166-7943-44cb-981e-5385abd8ef56",
      "cell_type": "markdown"
    },
    {
      "source": [
        "# 3. What are the top three brands with the highest average list price? The top three categories?"
      ],
      "metadata": {
        "id": "b0a21fb2-a323-4c4e-bdb8-43c4a1f29af8"
      },
      "id": "b0a21fb2-a323-4c4e-bdb8-43c4a1f29af8",
      "cell_type": "markdown"
    },
    {
      "source": [
        "- ### TOP THREE BRANDS WITH HIGHEST AVERAGE LIST PRICE"
      ],
      "metadata": {
        "id": "e5fb75e8-a70b-4073-ad6b-d76a25136a76"
      },
      "id": "e5fb75e8-a70b-4073-ad6b-d76a25136a76",
      "cell_type": "markdown"
    },
    {
      "source": [
        "SELECT TOP (3) b.brand_name AS brand, \n",
        "\t   AVG(p.list_price) AS avg_list_price\n",
        "FROM brands AS b\n",
        "LEFT JOIN products AS p\n",
        "ON b.brand_id = p.brand_id\n",
        "GROUP BY b.brand_name\n",
        "ORDER BY avg_list_price DESC;"
      ],
      "metadata": {
        "customType": "sql",
        "dataFrameVariableName": "df",
        "initial": false,
        "integrationId": "3b99a52b-51d6-49a4-b2fd-4ca490fb4f4b",
        "executionTime": 2095,
        "lastSuccessfullyExecutedCode": "SELECT TOP (3) b.brand_name AS brand, \n\t   AVG(p.list_price) AS avg_list_price\nFROM brands AS b\nLEFT JOIN products AS p\nON b.brand_id = p.brand_id\nGROUP BY b.brand_name\nORDER BY avg_list_price DESC;",
        "id": "e23e5fcc-acc5-426d-b8fe-70791c0a54e1",
        "outputId": "97a5309b-7bde-4bc8-dd5e-5365f8ded158"
      },
      "id": "e23e5fcc-acc5-426d-b8fe-70791c0a54e1",
      "cell_type": "code",
      "execution_count": null,
      "outputs": [
        {
          "output_type": "execute_result",
          "execution_count": 35,
          "data": {
            "application/com.datacamp.data-table.v1+json": {
              "table": {
                "schema": {
                  "fields": [
                    {
                      "name": "index",
                      "type": "integer"
                    },
                    {
                      "name": "brand",
                      "type": "string"
                    },
                    {
                      "name": "avg_list_price",
                      "type": "number"
                    }
                  ],
                  "primaryKey": [
                    "index"
                  ],
                  "pandas_version": "1.4.0"
                },
                "data": [
                  {
                    "index": 0,
                    "brand": "Trek",
                    "avg_list_price": 2500.064074
                  },
                  {
                    "index": 1,
                    "brand": "Heller",
                    "avg_list_price": 2172.996666
                  },
                  {
                    "index": 2,
                    "brand": "Surly",
                    "avg_list_price": 1331.7536
                  }
                ]
              },
              "total_rows": 3,
              "truncation_type": null
            },
            "text/plain": "    brand  avg_list_price\n0    Trek     2500.064074\n1  Heller     2172.996666\n2   Surly     1331.753600",
            "text/html": "<div>\n<style scoped>\n    .dataframe tbody tr th:only-of-type {\n        vertical-align: middle;\n    }\n\n    .dataframe tbody tr th {\n        vertical-align: top;\n    }\n\n    .dataframe thead th {\n        text-align: right;\n    }\n</style>\n<table border=\"1\" class=\"dataframe\">\n  <thead>\n    <tr style=\"text-align: right;\">\n      <th></th>\n      <th>brand</th>\n      <th>avg_list_price</th>\n    </tr>\n  </thead>\n  <tbody>\n    <tr>\n      <th>0</th>\n      <td>Trek</td>\n      <td>2500.064074</td>\n    </tr>\n    <tr>\n      <th>1</th>\n      <td>Heller</td>\n      <td>2172.996666</td>\n    </tr>\n    <tr>\n      <th>2</th>\n      <td>Surly</td>\n      <td>1331.753600</td>\n    </tr>\n  </tbody>\n</table>\n</div>"
          },
          "metadata": {}
        }
      ]
    },
    {
      "source": [
        "So, our top three brands having average list price are: \n",
        "\n",
        "**1. Trek** 🥇\n",
        "\n",
        "**2. Heller** 🥈\n",
        "\n",
        "**3. Surly** 🥉"
      ],
      "metadata": {
        "id": "d5b57744-6742-4f8d-9dc9-89698d83eed2"
      },
      "id": "d5b57744-6742-4f8d-9dc9-89698d83eed2",
      "cell_type": "markdown"
    },
    {
      "source": [
        "- ### TOP THREE CATEGORIES WITH HIGHEST AVERAGE LIST PRICE"
      ],
      "metadata": {
        "id": "9d04bc36-42bf-4547-8c47-357b1d3fec37"
      },
      "id": "9d04bc36-42bf-4547-8c47-357b1d3fec37",
      "cell_type": "markdown"
    },
    {
      "source": [
        "SELECT TOP (3) c.category_name AS category, \n",
        "\t   AVG(p.list_price) AS avg_list_price\n",
        "FROM categories AS c\n",
        "LEFT JOIN products AS p\n",
        "ON c.category_id = p.category_id\n",
        "GROUP BY c.category_name\n",
        "ORDER BY avg_list_price DESC;"
      ],
      "metadata": {
        "customType": "sql",
        "dataFrameVariableName": "df",
        "initial": false,
        "integrationId": "3b99a52b-51d6-49a4-b2fd-4ca490fb4f4b",
        "executionTime": 2005,
        "lastSuccessfullyExecutedCode": "SELECT TOP (3) c.category_name AS category, \n\t   AVG(p.list_price) AS avg_list_price\nFROM categories AS c\nLEFT JOIN products AS p\nON c.category_id = p.category_id\nGROUP BY c.category_name\nORDER BY avg_list_price DESC;",
        "id": "fe0cb632-b1bb-445c-a72e-78a5ad7850e8",
        "outputId": "116def95-e46a-43c7-dbd3-d3f58f7abf91"
      },
      "id": "fe0cb632-b1bb-445c-a72e-78a5ad7850e8",
      "cell_type": "code",
      "execution_count": null,
      "outputs": [
        {
          "output_type": "execute_result",
          "execution_count": 36,
          "data": {
            "application/com.datacamp.data-table.v1+json": {
              "table": {
                "schema": {
                  "fields": [
                    {
                      "name": "index",
                      "type": "integer"
                    },
                    {
                      "name": "category",
                      "type": "string"
                    },
                    {
                      "name": "avg_list_price",
                      "type": "number"
                    }
                  ],
                  "primaryKey": [
                    "index"
                  ],
                  "pandas_version": "1.4.0"
                },
                "data": [
                  {
                    "index": 0,
                    "category": "Electric Bikes",
                    "avg_list_price": 3281.656666
                  },
                  {
                    "index": 1,
                    "category": "Road Bikes",
                    "avg_list_price": 3175.357333
                  },
                  {
                    "index": 2,
                    "category": "Cyclocross Bicycles",
                    "avg_list_price": 2542.793
                  }
                ]
              },
              "total_rows": 3,
              "truncation_type": null
            },
            "text/plain": "              category  avg_list_price\n0       Electric Bikes     3281.656666\n1           Road Bikes     3175.357333\n2  Cyclocross Bicycles     2542.793000",
            "text/html": "<div>\n<style scoped>\n    .dataframe tbody tr th:only-of-type {\n        vertical-align: middle;\n    }\n\n    .dataframe tbody tr th {\n        vertical-align: top;\n    }\n\n    .dataframe thead th {\n        text-align: right;\n    }\n</style>\n<table border=\"1\" class=\"dataframe\">\n  <thead>\n    <tr style=\"text-align: right;\">\n      <th></th>\n      <th>category</th>\n      <th>avg_list_price</th>\n    </tr>\n  </thead>\n  <tbody>\n    <tr>\n      <th>0</th>\n      <td>Electric Bikes</td>\n      <td>3281.656666</td>\n    </tr>\n    <tr>\n      <th>1</th>\n      <td>Road Bikes</td>\n      <td>3175.357333</td>\n    </tr>\n    <tr>\n      <th>2</th>\n      <td>Cyclocross Bicycles</td>\n      <td>2542.793000</td>\n    </tr>\n  </tbody>\n</table>\n</div>"
          },
          "metadata": {}
        }
      ]
    },
    {
      "source": [
        "So, our top three brands having average list price are: \n",
        "\n",
        "**1. Electric Bikes** 🥇\n",
        "\n",
        "**2. Road Bikes** 🥈\n",
        "\n",
        "**3. Cyclocross Bicycles** 🥉\n",
        "\n",
        "This shows people are heading into electric mobility, HURRAH!!! 🎊"
      ],
      "metadata": {
        "id": "0b2399ba-7f55-4e65-8d8f-0f0a54152bc5"
      },
      "id": "0b2399ba-7f55-4e65-8d8f-0f0a54152bc5",
      "cell_type": "markdown"
    },
    {
      "source": [
        "# 4. Any other insights you found during your analysis?"
      ],
      "metadata": {
        "id": "11a6a01e-5c86-4b38-a9b2-a4bee48c7bbb"
      },
      "id": "11a6a01e-5c86-4b38-a9b2-a4bee48c7bbb",
      "cell_type": "markdown"
    },
    {
      "source": [
        "- ## How many products released by each brand between year 2016 - 2018?"
      ],
      "metadata": {
        "id": "854c3bec-2fc9-404d-bd63-60e183cbed20"
      },
      "id": "854c3bec-2fc9-404d-bd63-60e183cbed20",
      "cell_type": "markdown"
    },
    {
      "source": [
        "SELECT b.brand_name,  \n",
        "       COUNT(product_name) AS products_released\n",
        "FROM brands AS b\n",
        "LEFT JOIN products AS p\n",
        "ON b.brand_id = p.brand_id\n",
        "WHERE p.model_year BETWEEN 2016 AND 2018\n",
        "GROUP BY b.brand_name\n",
        "ORDER BY COUNT(product_name) DESC;"
      ],
      "metadata": {
        "customType": "sql",
        "dataFrameVariableName": "df",
        "initial": false,
        "integrationId": "3b99a52b-51d6-49a4-b2fd-4ca490fb4f4b",
        "executionTime": 1494,
        "lastSuccessfullyExecutedCode": "SELECT b.brand_name,  \n       COUNT(product_name) AS products_released\nFROM brands AS b\nLEFT JOIN products AS p\nON b.brand_id = p.brand_id\nWHERE p.model_year BETWEEN 2016 AND 2018\nGROUP BY b.brand_name\nORDER BY COUNT(product_name) DESC;",
        "id": "83b50a66-7827-4291-8d85-a54d4c042dcb",
        "outputId": "c7dc0319-cf71-46ae-ca2e-8e38ab4910a1"
      },
      "id": "83b50a66-7827-4291-8d85-a54d4c042dcb",
      "cell_type": "code",
      "execution_count": null,
      "outputs": [
        {
          "output_type": "execute_result",
          "execution_count": 37,
          "data": {
            "application/com.datacamp.data-table.v1+json": {
              "table": {
                "schema": {
                  "fields": [
                    {
                      "name": "index",
                      "type": "integer"
                    },
                    {
                      "name": "brand_name",
                      "type": "string"
                    },
                    {
                      "name": "products_released",
                      "type": "integer"
                    }
                  ],
                  "primaryKey": [
                    "index"
                  ],
                  "pandas_version": "1.4.0"
                },
                "data": [
                  {
                    "index": 0,
                    "brand_name": "Trek",
                    "products_released": 129
                  },
                  {
                    "index": 1,
                    "brand_name": "Electra",
                    "products_released": 118
                  },
                  {
                    "index": 2,
                    "brand_name": "Surly",
                    "products_released": 25
                  },
                  {
                    "index": 3,
                    "brand_name": "Sun Bicycles",
                    "products_released": 23
                  },
                  {
                    "index": 4,
                    "brand_name": "Haro",
                    "products_released": 10
                  },
                  {
                    "index": 5,
                    "brand_name": "Heller",
                    "products_released": 3
                  },
                  {
                    "index": 6,
                    "brand_name": "Pure Cycles",
                    "products_released": 3
                  },
                  {
                    "index": 7,
                    "brand_name": "Strider",
                    "products_released": 3
                  },
                  {
                    "index": 8,
                    "brand_name": "Ritchey",
                    "products_released": 1
                  }
                ]
              },
              "total_rows": 9,
              "truncation_type": null
            },
            "text/plain": "     brand_name  products_released\n0          Trek                129\n1       Electra                118\n2         Surly                 25\n3  Sun Bicycles                 23\n4          Haro                 10\n5        Heller                  3\n6   Pure Cycles                  3\n7       Strider                  3\n8       Ritchey                  1",
            "text/html": "<div>\n<style scoped>\n    .dataframe tbody tr th:only-of-type {\n        vertical-align: middle;\n    }\n\n    .dataframe tbody tr th {\n        vertical-align: top;\n    }\n\n    .dataframe thead th {\n        text-align: right;\n    }\n</style>\n<table border=\"1\" class=\"dataframe\">\n  <thead>\n    <tr style=\"text-align: right;\">\n      <th></th>\n      <th>brand_name</th>\n      <th>products_released</th>\n    </tr>\n  </thead>\n  <tbody>\n    <tr>\n      <th>0</th>\n      <td>Trek</td>\n      <td>129</td>\n    </tr>\n    <tr>\n      <th>1</th>\n      <td>Electra</td>\n      <td>118</td>\n    </tr>\n    <tr>\n      <th>2</th>\n      <td>Surly</td>\n      <td>25</td>\n    </tr>\n    <tr>\n      <th>3</th>\n      <td>Sun Bicycles</td>\n      <td>23</td>\n    </tr>\n    <tr>\n      <th>4</th>\n      <td>Haro</td>\n      <td>10</td>\n    </tr>\n    <tr>\n      <th>5</th>\n      <td>Heller</td>\n      <td>3</td>\n    </tr>\n    <tr>\n      <th>6</th>\n      <td>Pure Cycles</td>\n      <td>3</td>\n    </tr>\n    <tr>\n      <th>7</th>\n      <td>Strider</td>\n      <td>3</td>\n    </tr>\n    <tr>\n      <th>8</th>\n      <td>Ritchey</td>\n      <td>1</td>\n    </tr>\n  </tbody>\n</table>\n</div>"
          },
          "metadata": {}
        }
      ]
    },
    {
      "source": [
        "From this analysis, we found that:\n",
        "\n",
        "**1. Trek** 🥇\n",
        "\n",
        "**2. Electra** 🥈\n",
        "\n",
        "**3. Surly** 🥉\n",
        "\n",
        "are the top brands to release highest number of products between year 2016-2018."
      ],
      "metadata": {
        "id": "3322d422-5ee3-4acb-a47b-7dc26b074996"
      },
      "id": "3322d422-5ee3-4acb-a47b-7dc26b074996",
      "cell_type": "markdown"
    },
    {
      "source": [
        "- ## **Number of girl's products launched between 2016-2018**"
      ],
      "metadata": {
        "id": "fdee61ed-70a6-4bbc-a64e-9b155664ce9a"
      },
      "id": "fdee61ed-70a6-4bbc-a64e-9b155664ce9a",
      "cell_type": "markdown"
    },
    {
      "source": [
        "Here, we first created a Common Table Expression (CTE) to extract out the data having keyword 'Girl' and then fetched our required conditional data from that CTE."
      ],
      "metadata": {
        "id": "c73eb0b3-9f18-4b6d-95b5-577b0d0ffe78"
      },
      "id": "c73eb0b3-9f18-4b6d-95b5-577b0d0ffe78",
      "cell_type": "markdown"
    },
    {
      "source": [
        "WITH girls_product_list AS (SELECT product_name, model_year\n",
        "\t\t\t\t\t\t\tFROM products\n",
        "\t\t\t\t\t\t\tWHERE product_name LIKE '%Girl%')\n",
        "                            \n",
        "SELECT COUNT(product_name) AS total_girls_products\n",
        "FROM girls_product_list\n",
        "WHERE model_year BETWEEN 2016 AND 2018;"
      ],
      "metadata": {
        "customType": "sql",
        "dataFrameVariableName": "df",
        "initial": false,
        "integrationId": "3b99a52b-51d6-49a4-b2fd-4ca490fb4f4b",
        "executionTime": 1660,
        "lastSuccessfullyExecutedCode": "WITH girls_product_list AS (SELECT product_name, model_year\n\t\t\t\t\t\t\tFROM products\n\t\t\t\t\t\t\tWHERE product_name LIKE '%Girl%')\n                            \nSELECT COUNT(product_name) AS total_girls_products\nFROM girls_product_list\nWHERE model_year BETWEEN 2016 AND 2018;",
        "id": "d2752e69-0fa9-4ac4-aad3-47969edb6b3b",
        "outputId": "e927cf6b-395b-4c9f-9700-a8a8ba49c53f"
      },
      "id": "d2752e69-0fa9-4ac4-aad3-47969edb6b3b",
      "cell_type": "code",
      "execution_count": null,
      "outputs": [
        {
          "output_type": "execute_result",
          "execution_count": 67,
          "data": {
            "application/com.datacamp.data-table.v1+json": {
              "table": {
                "schema": {
                  "fields": [
                    {
                      "name": "index",
                      "type": "integer"
                    },
                    {
                      "name": "total_girls_products",
                      "type": "integer"
                    }
                  ],
                  "primaryKey": [
                    "index"
                  ],
                  "pandas_version": "1.4.0"
                },
                "data": [
                  {
                    "index": 0,
                    "total_girls_products": 25
                  }
                ]
              },
              "total_rows": 1,
              "truncation_type": null
            },
            "text/plain": "   total_girls_products\n0                    25",
            "text/html": "<div>\n<style scoped>\n    .dataframe tbody tr th:only-of-type {\n        vertical-align: middle;\n    }\n\n    .dataframe tbody tr th {\n        vertical-align: top;\n    }\n\n    .dataframe thead th {\n        text-align: right;\n    }\n</style>\n<table border=\"1\" class=\"dataframe\">\n  <thead>\n    <tr style=\"text-align: right;\">\n      <th></th>\n      <th>total_girls_products</th>\n    </tr>\n  </thead>\n  <tbody>\n    <tr>\n      <th>0</th>\n      <td>25</td>\n    </tr>\n  </tbody>\n</table>\n</div>"
          },
          "metadata": {}
        }
      ]
    },
    {
      "source": [
        "**So, the total girl's products launched between the year 2016 - 2018 are 25.** 🎊 "
      ],
      "metadata": {
        "id": "2b9baa8f-59ab-4653-a500-37c0f73cdbc4"
      },
      "id": "2b9baa8f-59ab-4653-a500-37c0f73cdbc4",
      "cell_type": "markdown"
    },
    {
      "source": [
        "- ## **Number of boy's products launched between 2016-2018**"
      ],
      "metadata": {
        "id": "b58a7311-f388-4704-bbec-0e6274af6df0"
      },
      "id": "b58a7311-f388-4704-bbec-0e6274af6df0",
      "cell_type": "markdown"
    },
    {
      "source": [
        "Here, we first created a Common Table Expression (CTE) to extract out the data having keyword 'Boy' and then fetched our required conditional data from that CTE."
      ],
      "metadata": {
        "id": "3e35ac6e-6cad-4bd1-b6f3-9763532ae1a5"
      },
      "id": "3e35ac6e-6cad-4bd1-b6f3-9763532ae1a5",
      "cell_type": "markdown"
    },
    {
      "source": [
        "WITH boys_product_list AS (SELECT product_name, model_year\n",
        "\t\t\t\t\t\t\tFROM products\n",
        "\t\t\t\t\t\t\tWHERE product_name LIKE '%Boy%')\n",
        "                            \n",
        "SELECT COUNT(product_name) AS total_boys_products\n",
        "FROM boys_product_list\n",
        "WHERE model_year BETWEEN 2016 AND 2018;"
      ],
      "metadata": {
        "customType": "sql",
        "dataFrameVariableName": "df",
        "initial": false,
        "integrationId": "3b99a52b-51d6-49a4-b2fd-4ca490fb4f4b",
        "executionTime": 1661,
        "lastSuccessfullyExecutedCode": "WITH boys_product_list AS (SELECT product_name, model_year\n\t\t\t\t\t\t\tFROM products\n\t\t\t\t\t\t\tWHERE product_name LIKE '%Boy%')\n                            \nSELECT COUNT(product_name) AS total_boys_products\nFROM boys_product_list\nWHERE model_year BETWEEN 2016 AND 2018;",
        "id": "10c5b196-28fb-427a-ae64-5257366c436e",
        "outputId": "708cd87c-5db1-48dc-e772-18bbd5b443b2"
      },
      "id": "10c5b196-28fb-427a-ae64-5257366c436e",
      "cell_type": "code",
      "execution_count": null,
      "outputs": [
        {
          "output_type": "execute_result",
          "execution_count": 66,
          "data": {
            "application/com.datacamp.data-table.v1+json": {
              "table": {
                "schema": {
                  "fields": [
                    {
                      "name": "index",
                      "type": "integer"
                    },
                    {
                      "name": "total_boys_products",
                      "type": "integer"
                    }
                  ],
                  "primaryKey": [
                    "index"
                  ],
                  "pandas_version": "1.4.0"
                },
                "data": [
                  {
                    "index": 0,
                    "total_boys_products": 18
                  }
                ]
              },
              "total_rows": 1,
              "truncation_type": null
            },
            "text/plain": "   total_boys_products\n0                   18",
            "text/html": "<div>\n<style scoped>\n    .dataframe tbody tr th:only-of-type {\n        vertical-align: middle;\n    }\n\n    .dataframe tbody tr th {\n        vertical-align: top;\n    }\n\n    .dataframe thead th {\n        text-align: right;\n    }\n</style>\n<table border=\"1\" class=\"dataframe\">\n  <thead>\n    <tr style=\"text-align: right;\">\n      <th></th>\n      <th>total_boys_products</th>\n    </tr>\n  </thead>\n  <tbody>\n    <tr>\n      <th>0</th>\n      <td>18</td>\n    </tr>\n  </tbody>\n</table>\n</div>"
          },
          "metadata": {}
        }
      ]
    },
    {
      "source": [
        "**So, the total boy's products launched between the year 2016 - 2018 are 18.** 🎊 "
      ],
      "metadata": {
        "id": "e1e0bb7b-1c57-4ab3-86d4-aa98e9f3e8c8"
      },
      "id": "e1e0bb7b-1c57-4ab3-86d4-aa98e9f3e8c8",
      "cell_type": "markdown"
    },
    {
      "source": [
        "## ⌛️ Thank You. It is finished!🎊"
      ],
      "metadata": {
        "id": "d9435def-3064-49e2-ae9d-f0d4b63ebc91"
      },
      "id": "d9435def-3064-49e2-ae9d-f0d4b63ebc91",
      "cell_type": "markdown"
    }
  ],
  "metadata": {
    "editor": "DataCamp Workspace",
    "kernelspec": {
      "display_name": "Python 3 (ipykernel)",
      "language": "python",
      "name": "python3"
    },
    "language_info": {
      "codemirror_mode": {
        "name": "ipython",
        "version": 3
      },
      "file_extension": ".py",
      "mimetype": "text/x-python",
      "name": "python",
      "nbconvert_exporter": "python",
      "pygments_lexer": "ipython3",
      "version": "3.8.10"
    },
    "colab": {
      "provenance": []
    }
  },
  "nbformat": 4,
  "nbformat_minor": 5
}